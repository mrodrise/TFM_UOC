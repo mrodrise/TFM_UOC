{
 "cells": [
  {
   "cell_type": "markdown",
   "source": [
    "<div style=\"width: 100%; clear: both;\">\n",
    "<div style=\"float: left; width: 50%;\">\n",
    "<img src=\"http://www.uoc.edu/portal/_resources/common/imatges/marca_UOC/UOC_Masterbrand.jpg\", align=\"left\">\n",
    "</div>\n",
    "<div style=\"float: right; width: 50%;\">\n",
    "<p style=\"margin: 0; padding-top: 22px; text-align:right;\">Trabajo final de master</p>\n",
    "<p style=\"margin: 0; text-align:right;\">Máster universitario en Ciencia de datos (<i>Data science</i>)</p>\n",
    "<p style=\"margin: 0; text-align:right; padding-button: 100px;\">Estudios de Informática, Multimedia y Telecomunicación</p>\n",
    "</div>\n",
    "</div>\n",
    "<div style=\"width:100%;\">&nbsp;</div>\n",
    "\n",
    "\n",
    "# Estado de la computación cuántica en el aprendizaje por refuerzo y cómo aplicarla en DQN y Reinforce con Línea Base\n",
    "\n",
    "## QVC aplicado a DQN en entorno CartPole\n",
    "\n"
   ],
   "metadata": {
    "collapsed": false
   }
  },
  {
   "cell_type": "markdown",
   "source": [
    "Se importan las librerías necesarias para ejecutar el Jupyter Notebook"
   ],
   "metadata": {
    "collapsed": false
   }
  },
  {
   "cell_type": "code",
   "execution_count": 1,
   "outputs": [],
   "source": [
    "# Importamos timeit para tomar mediciones de tiempo de ejecución\n",
    "import timeit\n",
    "\n",
    "# Importamos codecarbon para tomar medidas de huella de carbono\n",
    "from codecarbon import EmissionsTracker"
   ],
   "metadata": {
    "collapsed": false,
    "ExecuteTime": {
     "end_time": "2023-06-14T10:46:09.203652Z",
     "start_time": "2023-06-14T10:46:07.342554Z"
    }
   }
  },
  {
   "cell_type": "code",
   "execution_count": 2,
   "outputs": [],
   "source": [
    "import sys\n",
    "# Para importar nuestras librerías, que están en otro directorio\n",
    "sys.path.append(\"../librerias\")\n",
    "\n",
    "# Librería con circuito cuántico definido\n",
    "import QVC\n",
    "\n",
    "# Modelos de aprendizaje por refuerzo\n",
    "import Model\n",
    "\n",
    "# Experience Replay Buffer para DQN\n",
    "import experienceReplayBuffer as erb\n",
    "\n",
    "# Agentes\n",
    "import Agent"
   ],
   "metadata": {
    "collapsed": false,
    "ExecuteTime": {
     "end_time": "2023-06-14T10:46:13.147868Z",
     "start_time": "2023-06-14T10:46:09.211021Z"
    }
   }
  },
  {
   "cell_type": "code",
   "execution_count": 3,
   "outputs": [],
   "source": [
    "# Se importa la librería gymnasium para utilizar los entornos CartPole y Acrobot\n",
    "import gym as gym"
   ],
   "metadata": {
    "collapsed": false,
    "ExecuteTime": {
     "end_time": "2023-06-14T10:46:13.153678Z",
     "start_time": "2023-06-14T10:46:13.150295Z"
    }
   }
  },
  {
   "cell_type": "markdown",
   "source": [
    "Se crea el entorno, en este caso CartPole"
   ],
   "metadata": {
    "collapsed": false
   }
  },
  {
   "cell_type": "code",
   "execution_count": 4,
   "outputs": [
    {
     "name": "stderr",
     "output_type": "stream",
     "text": [
      "/Users/marcoemiliorodriguezserrano/anaconda3/lib/python3.10/site-packages/gym/envs/registration.py:592: UserWarning: \u001B[33mWARN: The environment CartPole-v0 is out of date. You should consider upgrading to version `v1`.\u001B[0m\n",
      "  logger.warn(\n",
      "/Users/marcoemiliorodriguezserrano/anaconda3/lib/python3.10/site-packages/gym/core.py:329: DeprecationWarning: \u001B[33mWARN: Initializing wrapper in old step API which returns one bool instead of two. It is recommended to set `new_step_api=True` to use new step API. This will be the default behaviour in future.\u001B[0m\n",
      "  deprecation(\n",
      "/Users/marcoemiliorodriguezserrano/anaconda3/lib/python3.10/site-packages/gym/wrappers/step_api_compatibility.py:39: DeprecationWarning: \u001B[33mWARN: Initializing environment in old step API which returns one bool instead of two. It is recommended to set `new_step_api=True` to use new step API. This will be the default behaviour in future.\u001B[0m\n",
      "  deprecation(\n"
     ]
    }
   ],
   "source": [
    "env = gym.envs.make(\"CartPole-v0\")"
   ],
   "metadata": {
    "collapsed": false,
    "ExecuteTime": {
     "end_time": "2023-06-14T10:46:13.191671Z",
     "start_time": "2023-06-14T10:46:13.157790Z"
    }
   }
  },
  {
   "cell_type": "markdown",
   "source": [
    "Se definen los hiperparámetros que se utilizarán en el modelo de aprendizaje por refuerzo"
   ],
   "metadata": {
    "collapsed": false
   }
  },
  {
   "cell_type": "code",
   "execution_count": 5,
   "outputs": [],
   "source": [
    "# Hiperparámetros del modelo de aprendizaje por refuerzo\n",
    "lr = 0.001            #Velocidad de aprendizaje\n",
    "lr_input=0.001\n",
    "lr_output=0.001\n",
    "MEMORY_SIZE = 10000  #Máxima capacidad del buffer\n",
    "MAX_EPISODES = 5000   #Número máximo de episodios (el agente debe aprender antes de llegar a este valor)\n",
    "EPSILON = 1           #Valor inicial de epsilon\n",
    "EPSILON_DECAY = .99   #Decaimiento de epsilon\n",
    "GAMMA = 0.99          #Valor gamma de la ecuación de Bellman\n",
    "BATCH_SIZE = 64       #Conjunto a coger del buffer para la red neuronal\n",
    "BURN_IN = 1000        #Número de episodios iniciales usados para rellenar el buffer antes de entrenar\n",
    "DNN_UPD = 30          #Frecuencia de actualización de la red neuronal\n",
    "DNN_SYNC = 100     #Frecuencia de sincronización de pesos entre la red neuronal y la red objetivo"
   ],
   "metadata": {
    "collapsed": false,
    "ExecuteTime": {
     "end_time": "2023-06-14T10:46:13.192068Z",
     "start_time": "2023-06-14T10:46:13.181032Z"
    }
   }
  },
  {
   "cell_type": "code",
   "execution_count": null,
   "outputs": [],
   "source": [],
   "metadata": {
    "collapsed": false
   }
  },
  {
   "cell_type": "markdown",
   "source": [
    "Se definen los hiperparámetros del circuito QVC"
   ],
   "metadata": {
    "collapsed": false
   }
  },
  {
   "cell_type": "code",
   "execution_count": 6,
   "outputs": [],
   "source": [
    "# Hiperparámetros del QVC\n",
    "n_layers = 5    # número de capas del Ansatz\n",
    "n_qubits = 4    # qubits definidos, en este caso son 4 al disponer de 4 variables de observación\n",
    "n_actions = 2   # número de acciones, se definen 2 para Cartpole\n",
    "environment = 0 # entorno Cartpole\n",
    "quantum_device = \"default.qubit\" # dispositivo cuántico, se define un simulador cuántico"
   ],
   "metadata": {
    "collapsed": false,
    "ExecuteTime": {
     "end_time": "2023-06-14T10:46:13.200448Z",
     "start_time": "2023-06-14T10:46:13.187577Z"
    }
   }
  },
  {
   "cell_type": "markdown",
   "source": [
    "Se crea el buffer de repetición de experiencias"
   ],
   "metadata": {
    "collapsed": false
   }
  },
  {
   "cell_type": "code",
   "execution_count": 7,
   "outputs": [],
   "source": [
    "buffer = erb.experienceReplayBuffer(memory_size=MEMORY_SIZE, burn_in=BURN_IN)   # buffer experience replay"
   ],
   "metadata": {
    "collapsed": false,
    "ExecuteTime": {
     "end_time": "2023-06-14T10:46:13.205646Z",
     "start_time": "2023-06-14T10:46:13.198169Z"
    }
   }
  },
  {
   "cell_type": "markdown",
   "source": [
    "Se define el circuito cuántico que sustituye a la red neuronal"
   ],
   "metadata": {
    "collapsed": false
   }
  },
  {
   "cell_type": "code",
   "execution_count": 8,
   "outputs": [],
   "source": [
    "net = QVC.QuantumNet(n_layers, n_qubits, n_actions, environment, quantum_device)"
   ],
   "metadata": {
    "collapsed": false,
    "ExecuteTime": {
     "end_time": "2023-06-14T10:46:13.355386Z",
     "start_time": "2023-06-14T10:46:13.217410Z"
    }
   }
  },
  {
   "cell_type": "markdown",
   "source": [
    "Se crea la red objetivo también como un circuito cuántico"
   ],
   "metadata": {
    "collapsed": false
   }
  },
  {
   "cell_type": "code",
   "execution_count": 9,
   "outputs": [],
   "source": [
    "target_network = QVC.QuantumNet(n_layers, n_qubits, n_actions, environment, quantum_device)"
   ],
   "metadata": {
    "collapsed": false,
    "ExecuteTime": {
     "end_time": "2023-06-14T10:46:13.370532Z",
     "start_time": "2023-06-14T10:46:13.367861Z"
    }
   }
  },
  {
   "cell_type": "markdown",
   "source": [
    "Se crea el modelo DQN"
   ],
   "metadata": {
    "collapsed": false
   }
  },
  {
   "cell_type": "code",
   "execution_count": 10,
   "outputs": [],
   "source": [
    "dqn = Model.DQN(env, net, learning_rate=lr, lr_input=lr_input, lr_output=lr_output)"
   ],
   "metadata": {
    "collapsed": false,
    "ExecuteTime": {
     "end_time": "2023-06-14T10:46:13.388899Z",
     "start_time": "2023-06-14T10:46:13.371306Z"
    }
   }
  },
  {
   "cell_type": "markdown",
   "source": [
    "Se crea el modelo DQN objetivo"
   ],
   "metadata": {
    "collapsed": false
   }
  },
  {
   "cell_type": "code",
   "execution_count": 11,
   "outputs": [],
   "source": [
    "dqn_target = Model.DQN(env, target_network, learning_rate=lr, lr_input=lr_input, lr_output=lr_output)"
   ],
   "metadata": {
    "collapsed": false,
    "ExecuteTime": {
     "end_time": "2023-06-14T10:46:13.389495Z",
     "start_time": "2023-06-14T10:46:13.382172Z"
    }
   }
  },
  {
   "cell_type": "markdown",
   "source": [
    "Se crea el agente, se le pasa como parámetro los dos modelos inicializados que contienen un circuito cuántico"
   ],
   "metadata": {
    "collapsed": false
   }
  },
  {
   "cell_type": "code",
   "execution_count": 12,
   "outputs": [],
   "source": [
    "agent = Agent.DQNAgent(env, dqn, dqn_target, buffer, EPSILON, EPSILON_DECAY, BATCH_SIZE)"
   ],
   "metadata": {
    "collapsed": false,
    "ExecuteTime": {
     "end_time": "2023-06-14T10:46:13.400804Z",
     "start_time": "2023-06-14T10:46:13.389813Z"
    }
   }
  },
  {
   "cell_type": "markdown",
   "source": [
    "Se prepara el entorno para iniciar las mediciones de CO2"
   ],
   "metadata": {
    "collapsed": false
   }
  },
  {
   "cell_type": "code",
   "execution_count": 13,
   "outputs": [],
   "source": [
    "# Se define la carpeta de salida de los archivos de emisiones\n",
    "output_dir = './emisiones/emisiones_QVC_DQN_CartPole'\n",
    "\n",
    "# Se crea una instancia de EmissionsTracker y se configura la carpeta de salida\n",
    "tracker = EmissionsTracker(output_dir=output_dir, log_level = \"critical\")\n",
    "\n",
    "# Se inicializa el seguimiento de las emisiones\n",
    "tracker.start()"
   ],
   "metadata": {
    "collapsed": false,
    "ExecuteTime": {
     "end_time": "2023-06-14T10:46:17.976678Z",
     "start_time": "2023-06-14T10:46:13.397111Z"
    }
   }
  },
  {
   "cell_type": "markdown",
   "source": [
    "Iniciamos el cronómetro para medir el tiempo del proceso"
   ],
   "metadata": {
    "collapsed": false
   }
  },
  {
   "cell_type": "code",
   "execution_count": 14,
   "outputs": [],
   "source": [
    "tiempo_inicio = timeit.default_timer()"
   ],
   "metadata": {
    "collapsed": false,
    "ExecuteTime": {
     "end_time": "2023-06-14T10:46:17.989070Z",
     "start_time": "2023-06-14T10:46:17.985142Z"
    }
   }
  },
  {
   "cell_type": "markdown",
   "source": [
    "Se inicia el entrenamiento del agente"
   ],
   "metadata": {
    "collapsed": false
   }
  },
  {
   "cell_type": "code",
   "execution_count": 15,
   "outputs": [
    {
     "name": "stdout",
     "output_type": "stream",
     "text": [
      "Rellenando el buffer de repetición...\n",
      "Entrenando...\n",
      "Episodio 2750 Recompensa media 164.10 Epsilon 0.01\t\t18606165716\t\t\t"
     ]
    },
    {
     "name": "stderr",
     "output_type": "stream",
     "text": [
      "ERROR: EnergyDriver_executeCommands [via readSample] returned 0xe00002bc\n"
     ]
    },
    {
     "name": "stdout",
     "output_type": "stream",
     "text": [
      "Episodio 2778 Recompensa media 166.35 Epsilon 0.01\t\t"
     ]
    },
    {
     "name": "stderr",
     "output_type": "stream",
     "text": [
      "ERROR: EnergyDriver_executeCommands [via readSample] returned 0xe00002bc\n"
     ]
    },
    {
     "name": "stdout",
     "output_type": "stream",
     "text": [
      "Episodio 2780 Recompensa media 166.98 Epsilon 0.01\t\t"
     ]
    },
    {
     "name": "stderr",
     "output_type": "stream",
     "text": [
      "ERROR: EnergyDriver_executeCommands [via readSample] returned 0xe00002bc\n"
     ]
    },
    {
     "name": "stdout",
     "output_type": "stream",
     "text": [
      "Episodio 2789 Recompensa media 167.63 Epsilon 0.01\t\t"
     ]
    },
    {
     "name": "stderr",
     "output_type": "stream",
     "text": [
      "ERROR: EnergyDriver_executeCommands [via readSample] returned 0xe00002bc\n"
     ]
    },
    {
     "name": "stdout",
     "output_type": "stream",
     "text": [
      "Episodio 2791 Recompensa media 167.33 Epsilon 0.01\t\t"
     ]
    },
    {
     "name": "stderr",
     "output_type": "stream",
     "text": [
      "ERROR: EnergyDriver_executeCommands [via readSample] returned 0xe00002bc\n"
     ]
    },
    {
     "name": "stdout",
     "output_type": "stream",
     "text": [
      "Episodio 2794 Recompensa media 166.77 Epsilon 0.01\t\t"
     ]
    },
    {
     "name": "stderr",
     "output_type": "stream",
     "text": [
      "ERROR: EnergyDriver_executeCommands [via readSample] returned 0xe00002bc\n"
     ]
    },
    {
     "name": "stdout",
     "output_type": "stream",
     "text": [
      "Episodio 2797 Recompensa media 166.79 Epsilon 0.01\t\t"
     ]
    },
    {
     "name": "stderr",
     "output_type": "stream",
     "text": [
      "ERROR: EnergyDriver_executeCommands [via readSample] returned 0xe00002bc\n"
     ]
    },
    {
     "name": "stdout",
     "output_type": "stream",
     "text": [
      "Episodio 2799 Recompensa media 166.60 Epsilon 0.01\t\t"
     ]
    },
    {
     "name": "stderr",
     "output_type": "stream",
     "text": [
      "ERROR: EnergyDriver_executeCommands [via readSample] returned 0xe00002bc\n",
      "ERROR: EnergyDriver_executeCommands [via readSample] returned 0xe00002bc\n"
     ]
    },
    {
     "name": "stdout",
     "output_type": "stream",
     "text": [
      "Episodio 2800 Recompensa media 166.71 Epsilon 0.01\t\t"
     ]
    },
    {
     "name": "stderr",
     "output_type": "stream",
     "text": [
      "ERROR: EnergyDriver_executeCommands [via readSample] returned 0xe00002bc\n"
     ]
    },
    {
     "name": "stdout",
     "output_type": "stream",
     "text": [
      "Episodio 2801 Recompensa media 166.97 Epsilon 0.01\t\t"
     ]
    },
    {
     "name": "stderr",
     "output_type": "stream",
     "text": [
      "ERROR: EnergyDriver_executeCommands [via readSample] returned 0xe00002bc\n"
     ]
    },
    {
     "name": "stdout",
     "output_type": "stream",
     "text": [
      "Episodio 2803 Recompensa media 165.75 Epsilon 0.01\t\t"
     ]
    },
    {
     "name": "stderr",
     "output_type": "stream",
     "text": [
      "ERROR: EnergyDriver_executeCommands [via readSample] returned 0xe00002bc\n"
     ]
    },
    {
     "name": "stdout",
     "output_type": "stream",
     "text": [
      "Episodio 2806 Recompensa media 165.81 Epsilon 0.01\t\t"
     ]
    },
    {
     "name": "stderr",
     "output_type": "stream",
     "text": [
      "ERROR: EnergyDriver_executeCommands [via readSample] returned 0xe00002bc\n"
     ]
    },
    {
     "name": "stdout",
     "output_type": "stream",
     "text": [
      "Episodio 2808 Recompensa media 167.36 Epsilon 0.01\t\t"
     ]
    },
    {
     "name": "stderr",
     "output_type": "stream",
     "text": [
      "ERROR: EnergyDriver_executeCommands [via readSample] returned 0xe00002bc\n"
     ]
    },
    {
     "name": "stdout",
     "output_type": "stream",
     "text": [
      "Episodio 2812 Recompensa media 168.85 Epsilon 0.01\t\t"
     ]
    },
    {
     "name": "stderr",
     "output_type": "stream",
     "text": [
      "ERROR: EnergyDriver_executeCommands [via readSample] returned 0xe00002bc\n"
     ]
    },
    {
     "name": "stdout",
     "output_type": "stream",
     "text": [
      "Episodio 2814 Recompensa media 169.06 Epsilon 0.01\t\t"
     ]
    },
    {
     "name": "stderr",
     "output_type": "stream",
     "text": [
      "ERROR: EnergyDriver_executeCommands [via readSample] returned 0xe00002bc\n"
     ]
    },
    {
     "name": "stdout",
     "output_type": "stream",
     "text": [
      "Episodio 2815 Recompensa media 169.31 Epsilon 0.01\t\t"
     ]
    },
    {
     "name": "stderr",
     "output_type": "stream",
     "text": [
      "ERROR: EnergyDriver_executeCommands [via readSample] returned 0xe00002bc\n"
     ]
    },
    {
     "name": "stdout",
     "output_type": "stream",
     "text": [
      "Episodio 2817 Recompensa media 168.52 Epsilon 0.01\t\t"
     ]
    },
    {
     "name": "stderr",
     "output_type": "stream",
     "text": [
      "ERROR: EnergyDriver_executeCommands [via readSample] returned 0xe00002bc\n",
      "ERROR: EnergyDriver_executeCommands [via readSample] returned 0xe00002bc\n"
     ]
    },
    {
     "name": "stdout",
     "output_type": "stream",
     "text": [
      "Episodio 2820 Recompensa media 169.79 Epsilon 0.01\t\t"
     ]
    },
    {
     "name": "stderr",
     "output_type": "stream",
     "text": [
      "ERROR: EnergyDriver_executeCommands [via readSample] returned 0xe00002bc\n"
     ]
    },
    {
     "name": "stdout",
     "output_type": "stream",
     "text": [
      "Episodio 2821 Recompensa media 170.06 Epsilon 0.01\t\t"
     ]
    },
    {
     "name": "stderr",
     "output_type": "stream",
     "text": [
      "ERROR: EnergyDriver_executeCommands [via readSample] returned 0xe00002bc\n"
     ]
    },
    {
     "name": "stdout",
     "output_type": "stream",
     "text": [
      "Episodio 2822 Recompensa media 170.21 Epsilon 0.01\t\t"
     ]
    },
    {
     "name": "stderr",
     "output_type": "stream",
     "text": [
      "ERROR: EnergyDriver_executeCommands [via readSample] returned 0xe00002bc\n"
     ]
    },
    {
     "name": "stdout",
     "output_type": "stream",
     "text": [
      "Episodio 2825 Recompensa media 169.22 Epsilon 0.01\t\t"
     ]
    },
    {
     "name": "stderr",
     "output_type": "stream",
     "text": [
      "ERROR: EnergyDriver_executeCommands [via readSample] returned 0xe00002bc\n",
      "ERROR: EnergyDriver_executeCommands [via readSample] returned 0xe00002bc\n"
     ]
    },
    {
     "name": "stdout",
     "output_type": "stream",
     "text": [
      "Episodio 2835 Recompensa media 167.56 Epsilon 0.01\t\t"
     ]
    },
    {
     "name": "stderr",
     "output_type": "stream",
     "text": [
      "ERROR: EnergyDriver_executeCommands [via readSample] returned 0xe00002bc\n"
     ]
    },
    {
     "name": "stdout",
     "output_type": "stream",
     "text": [
      "Episodio 2839 Recompensa media 168.67 Epsilon 0.01\t\t"
     ]
    },
    {
     "name": "stderr",
     "output_type": "stream",
     "text": [
      "ERROR: EnergyDriver_executeCommands [via readSample] returned 0xe00002bc\n"
     ]
    },
    {
     "name": "stdout",
     "output_type": "stream",
     "text": [
      "Episodio 2840 Recompensa media 169.22 Epsilon 0.01\t\t"
     ]
    },
    {
     "name": "stderr",
     "output_type": "stream",
     "text": [
      "ERROR: EnergyDriver_executeCommands [via readSample] returned 0xe00002bc\n"
     ]
    },
    {
     "name": "stdout",
     "output_type": "stream",
     "text": [
      "Episodio 2841 Recompensa media 169.65 Epsilon 0.01\t\t"
     ]
    },
    {
     "name": "stderr",
     "output_type": "stream",
     "text": [
      "ERROR: EnergyDriver_executeCommands [via readSample] returned 0xe00002bc\n"
     ]
    },
    {
     "name": "stdout",
     "output_type": "stream",
     "text": [
      "Episodio 2842 Recompensa media 170.11 Epsilon 0.01\t\t"
     ]
    },
    {
     "name": "stderr",
     "output_type": "stream",
     "text": [
      "ERROR: EnergyDriver_executeCommands [via readSample] returned 0xe00002bc\n",
      "ERROR: EnergyDriver_executeCommands [via readSample] returned 0xe00002bc\n"
     ]
    },
    {
     "name": "stdout",
     "output_type": "stream",
     "text": [
      "Episodio 2844 Recompensa media 169.14 Epsilon 0.01\t\t"
     ]
    },
    {
     "name": "stderr",
     "output_type": "stream",
     "text": [
      "ERROR: EnergyDriver_executeCommands [via readSample] returned 0xe00002bc\n"
     ]
    },
    {
     "name": "stdout",
     "output_type": "stream",
     "text": [
      "Episodio 2847 Recompensa media 168.25 Epsilon 0.01\t\t"
     ]
    },
    {
     "name": "stderr",
     "output_type": "stream",
     "text": [
      "ERROR: EnergyDriver_executeCommands [via readSample] returned 0xe00002bc\n"
     ]
    },
    {
     "name": "stdout",
     "output_type": "stream",
     "text": [
      "Episodio 2848 Recompensa media 168.85 Epsilon 0.01\t\t"
     ]
    },
    {
     "name": "stderr",
     "output_type": "stream",
     "text": [
      "ERROR: EnergyDriver_executeCommands [via readSample] returned 0xe00002bc\n"
     ]
    },
    {
     "name": "stdout",
     "output_type": "stream",
     "text": [
      "Episodio 2850 Recompensa media 167.49 Epsilon 0.01\t\t"
     ]
    },
    {
     "name": "stderr",
     "output_type": "stream",
     "text": [
      "ERROR: EnergyDriver_executeCommands [via readSample] returned 0xe00002bc\n"
     ]
    },
    {
     "name": "stdout",
     "output_type": "stream",
     "text": [
      "Episodio 2853 Recompensa media 168.05 Epsilon 0.01\t\t"
     ]
    },
    {
     "name": "stderr",
     "output_type": "stream",
     "text": [
      "ERROR: EnergyDriver_executeCommands [via readSample] returned 0xe00002bc\n"
     ]
    },
    {
     "name": "stdout",
     "output_type": "stream",
     "text": [
      "Episodio 2864 Recompensa media 170.04 Epsilon 0.01\t\t"
     ]
    },
    {
     "name": "stderr",
     "output_type": "stream",
     "text": [
      "ERROR: EnergyDriver_executeCommands [via readSample] returned 0xe00002bc\n"
     ]
    },
    {
     "name": "stdout",
     "output_type": "stream",
     "text": [
      "Episodio 2865 Recompensa media 170.04 Epsilon 0.01\t\t"
     ]
    },
    {
     "name": "stderr",
     "output_type": "stream",
     "text": [
      "ERROR: EnergyDriver_executeCommands [via readSample] returned 0xe00002bc\n"
     ]
    },
    {
     "name": "stdout",
     "output_type": "stream",
     "text": [
      "Episodio 2868 Recompensa media 170.94 Epsilon 0.01\t\t"
     ]
    },
    {
     "name": "stderr",
     "output_type": "stream",
     "text": [
      "ERROR: EnergyDriver_executeCommands [via readSample] returned 0xe00002bc\n"
     ]
    },
    {
     "name": "stdout",
     "output_type": "stream",
     "text": [
      "Episodio 2869 Recompensa media 171.49 Epsilon 0.01\t\t"
     ]
    },
    {
     "name": "stderr",
     "output_type": "stream",
     "text": [
      "ERROR: EnergyDriver_executeCommands [via readSample] returned 0xe00002bc\n"
     ]
    },
    {
     "name": "stdout",
     "output_type": "stream",
     "text": [
      "Episodio 2874 Recompensa media 172.94 Epsilon 0.01\t\t"
     ]
    },
    {
     "name": "stderr",
     "output_type": "stream",
     "text": [
      "ERROR: EnergyDriver_executeCommands [via readSample] returned 0xe00002bc\n"
     ]
    },
    {
     "name": "stdout",
     "output_type": "stream",
     "text": [
      "Episodio 2875 Recompensa media 173.39 Epsilon 0.01\t\t"
     ]
    },
    {
     "name": "stderr",
     "output_type": "stream",
     "text": [
      "ERROR: EnergyDriver_executeCommands [via readSample] returned 0xe00002bc\n",
      "ERROR: EnergyDriver_executeCommands [via readSample] returned 0xe00002bc\n"
     ]
    },
    {
     "name": "stdout",
     "output_type": "stream",
     "text": [
      "Episodio 2876 Recompensa media 173.64 Epsilon 0.01\t\t"
     ]
    },
    {
     "name": "stderr",
     "output_type": "stream",
     "text": [
      "ERROR: EnergyDriver_executeCommands [via readSample] returned 0xe00002bc\n",
      "ERROR: EnergyDriver_executeCommands [via readSample] returned 0xe00002bc\n"
     ]
    },
    {
     "name": "stdout",
     "output_type": "stream",
     "text": [
      "Episodio 2877 Recompensa media 174.11 Epsilon 0.01\t\t"
     ]
    },
    {
     "name": "stderr",
     "output_type": "stream",
     "text": [
      "ERROR: EnergyDriver_executeCommands [via readSample] returned 0xe00002bc\n",
      "ERROR: EnergyDriver_executeCommands [via readSample] returned 0xe00002bc\n"
     ]
    },
    {
     "name": "stdout",
     "output_type": "stream",
     "text": [
      "Episodio 2878 Recompensa media 174.56 Epsilon 0.01\t\t"
     ]
    },
    {
     "name": "stderr",
     "output_type": "stream",
     "text": [
      "ERROR: EnergyDriver_executeCommands [via readSample] returned 0xe00002bc\n"
     ]
    },
    {
     "name": "stdout",
     "output_type": "stream",
     "text": [
      "Episodio 2880 Recompensa media 174.56 Epsilon 0.01\t\t"
     ]
    },
    {
     "name": "stderr",
     "output_type": "stream",
     "text": [
      "ERROR: EnergyDriver_executeCommands [via readSample] returned 0xe00002bc\n"
     ]
    },
    {
     "name": "stdout",
     "output_type": "stream",
     "text": [
      "Episodio 2881 Recompensa media 174.73 Epsilon 0.01\t\t"
     ]
    },
    {
     "name": "stderr",
     "output_type": "stream",
     "text": [
      "ERROR: EnergyDriver_executeCommands [via readSample] returned 0xe00002bc\n",
      "ERROR: EnergyDriver_executeCommands [via readSample] returned 0xe00002bc\n"
     ]
    },
    {
     "name": "stdout",
     "output_type": "stream",
     "text": [
      "Episodio 2882 Recompensa media 175.12 Epsilon 0.01\t\t"
     ]
    },
    {
     "name": "stderr",
     "output_type": "stream",
     "text": [
      "ERROR: EnergyDriver_executeCommands [via readSample] returned 0xe00002bc\n"
     ]
    },
    {
     "name": "stdout",
     "output_type": "stream",
     "text": [
      "Episodio 2886 Recompensa media 176.68 Epsilon 0.01\t\t"
     ]
    },
    {
     "name": "stderr",
     "output_type": "stream",
     "text": [
      "ERROR: EnergyDriver_executeCommands [via readSample] returned 0xe00002bc\n",
      "ERROR: EnergyDriver_executeCommands [via readSample] returned 0xe00002bc\n"
     ]
    },
    {
     "name": "stdout",
     "output_type": "stream",
     "text": [
      "Episodio 2892 Recompensa media 179.02 Epsilon 0.01\t\t"
     ]
    },
    {
     "name": "stderr",
     "output_type": "stream",
     "text": [
      "ERROR: EnergyDriver_executeCommands [via readSample] returned 0xe00002bc\n"
     ]
    },
    {
     "name": "stdout",
     "output_type": "stream",
     "text": [
      "Episodio 2893 Recompensa media 179.68 Epsilon 0.01\t\t"
     ]
    },
    {
     "name": "stderr",
     "output_type": "stream",
     "text": [
      "ERROR: EnergyDriver_executeCommands [via readSample] returned 0xe00002bc\n"
     ]
    },
    {
     "name": "stdout",
     "output_type": "stream",
     "text": [
      "Episodio 2894 Recompensa media 180.15 Epsilon 0.01\t\t"
     ]
    },
    {
     "name": "stderr",
     "output_type": "stream",
     "text": [
      "ERROR: EnergyDriver_executeCommands [via readSample] returned 0xe00002bc\n",
      "ERROR: EnergyDriver_executeCommands [via readSample] returned 0xe00002bc\n"
     ]
    },
    {
     "name": "stdout",
     "output_type": "stream",
     "text": [
      "Episodio 2895 Recompensa media 180.59 Epsilon 0.01\t\t"
     ]
    },
    {
     "name": "stderr",
     "output_type": "stream",
     "text": [
      "ERROR: EnergyDriver_executeCommands [via readSample] returned 0xe00002bc\n",
      "ERROR: EnergyDriver_executeCommands [via readSample] returned 0xe00002bc\n"
     ]
    },
    {
     "name": "stdout",
     "output_type": "stream",
     "text": [
      "Episodio 2897 Recompensa media 180.97 Epsilon 0.01\t\t"
     ]
    },
    {
     "name": "stderr",
     "output_type": "stream",
     "text": [
      "ERROR: EnergyDriver_executeCommands [via readSample] returned 0xe00002bc\n"
     ]
    },
    {
     "name": "stdout",
     "output_type": "stream",
     "text": [
      "Episodio 2898 Recompensa media 181.26 Epsilon 0.01\t\t"
     ]
    },
    {
     "name": "stderr",
     "output_type": "stream",
     "text": [
      "ERROR: EnergyDriver_executeCommands [via readSample] returned 0xe00002bc\n",
      "ERROR: EnergyDriver_executeCommands [via readSample] returned 0xe00002bc\n"
     ]
    },
    {
     "name": "stdout",
     "output_type": "stream",
     "text": [
      "Episodio 2899 Recompensa media 181.62 Epsilon 0.01\t\t"
     ]
    },
    {
     "name": "stderr",
     "output_type": "stream",
     "text": [
      "ERROR: EnergyDriver_executeCommands [via readSample] returned 0xe00002bc\n"
     ]
    },
    {
     "name": "stdout",
     "output_type": "stream",
     "text": [
      "Episodio 2900 Recompensa media 181.84 Epsilon 0.01\t\t"
     ]
    },
    {
     "name": "stderr",
     "output_type": "stream",
     "text": [
      "ERROR: EnergyDriver_executeCommands [via readSample] returned 0xe00002bc\n",
      "ERROR: EnergyDriver_executeCommands [via readSample] returned 0xe00002bc\n",
      "ERROR: EnergyDriver_executeCommands [via readSample] returned 0xe00002bc\n"
     ]
    },
    {
     "name": "stdout",
     "output_type": "stream",
     "text": [
      "Episodio 2901 Recompensa media 181.84 Epsilon 0.01\t\t"
     ]
    },
    {
     "name": "stderr",
     "output_type": "stream",
     "text": [
      "ERROR: EnergyDriver_executeCommands [via readSample] returned 0xe00002bc\n"
     ]
    },
    {
     "name": "stdout",
     "output_type": "stream",
     "text": [
      "Episodio 2910 Recompensa media 183.99 Epsilon 0.01\t\t"
     ]
    },
    {
     "name": "stderr",
     "output_type": "stream",
     "text": [
      "ERROR: EnergyDriver_executeCommands [via readSample] returned 0xe00002bc\n"
     ]
    },
    {
     "name": "stdout",
     "output_type": "stream",
     "text": [
      "Episodio 2911 Recompensa media 184.28 Epsilon 0.01\t\t"
     ]
    },
    {
     "name": "stderr",
     "output_type": "stream",
     "text": [
      "ERROR: EnergyDriver_executeCommands [via readSample] returned 0xe00002bc\n"
     ]
    },
    {
     "name": "stdout",
     "output_type": "stream",
     "text": [
      "Episodio 2914 Recompensa media 185.60 Epsilon 0.01\t\t"
     ]
    },
    {
     "name": "stderr",
     "output_type": "stream",
     "text": [
      "ERROR: EnergyDriver_executeCommands [via readSample] returned 0xe00002bc\n"
     ]
    },
    {
     "name": "stdout",
     "output_type": "stream",
     "text": [
      "Episodio 2925 Recompensa media 188.95 Epsilon 0.01\t\t"
     ]
    },
    {
     "name": "stderr",
     "output_type": "stream",
     "text": [
      "ERROR: EnergyDriver_executeCommands [via readSample] returned 0xe00002bc\n"
     ]
    },
    {
     "name": "stdout",
     "output_type": "stream",
     "text": [
      "Episodio 2927 Recompensa media 188.65 Epsilon 0.01\t\t"
     ]
    },
    {
     "name": "stderr",
     "output_type": "stream",
     "text": [
      "ERROR: EnergyDriver_executeCommands [via readSample] returned 0xe00002bc\n",
      "ERROR: EnergyDriver_executeCommands [via readSample] returned 0xe00002bc\n"
     ]
    },
    {
     "name": "stdout",
     "output_type": "stream",
     "text": [
      "Episodio 2928 Recompensa media 188.65 Epsilon 0.01\t\t"
     ]
    },
    {
     "name": "stderr",
     "output_type": "stream",
     "text": [
      "ERROR: EnergyDriver_executeCommands [via readSample] returned 0xe00002bc\n"
     ]
    },
    {
     "name": "stdout",
     "output_type": "stream",
     "text": [
      "Episodio 2933 Recompensa media 192.84 Epsilon 0.01\t\t"
     ]
    },
    {
     "name": "stderr",
     "output_type": "stream",
     "text": [
      "ERROR: EnergyDriver_executeCommands [via readSample] returned 0xe00002bc\n"
     ]
    },
    {
     "name": "stdout",
     "output_type": "stream",
     "text": [
      "Episodio 2943 Recompensa media 194.21 Epsilon 0.01\t\t"
     ]
    },
    {
     "name": "stderr",
     "output_type": "stream",
     "text": [
      "ERROR: EnergyDriver_executeCommands [via readSample] returned 0xe00002bc\n"
     ]
    },
    {
     "name": "stdout",
     "output_type": "stream",
     "text": [
      "Episodio 2944 Recompensa media 195.56 Epsilon 0.01\t\t\n",
      "El entorno se resolvió en 2944 episodios!\n"
     ]
    }
   ],
   "source": [
    "agent.train(gamma=GAMMA, max_episodes=MAX_EPISODES,\n",
    "              batch_size=BATCH_SIZE, dnn_update_frequency=DNN_UPD, dnn_sync_frequency=DNN_SYNC)"
   ],
   "metadata": {
    "collapsed": false,
    "ExecuteTime": {
     "end_time": "2023-06-15T05:04:25.937298Z",
     "start_time": "2023-06-14T10:46:18.025826Z"
    }
   }
  },
  {
   "cell_type": "markdown",
   "source": [
    "Se calcula el tiempo de ejecución, lo que ha tardado el agente en entrenar"
   ],
   "metadata": {
    "collapsed": false
   }
  },
  {
   "cell_type": "code",
   "execution_count": 16,
   "outputs": [
    {
     "name": "stdout",
     "output_type": "stream",
     "text": [
      "Tiempo ejecución entrenamiento: 18 horas, 18 minutos y 8 segundos\n"
     ]
    }
   ],
   "source": [
    "tiempo_ejecucion = round(timeit.default_timer() - tiempo_inicio, 0)\n",
    "print(\"Tiempo ejecución entrenamiento: \" + str(int(tiempo_ejecucion/3600))\n",
    "      + \" horas, \" + str(int((tiempo_ejecucion % 3600)/60)) + \" minutos y \"\n",
    "      + str(int((tiempo_ejecucion % 3600)%60)) + \" segundos\")\n"
   ],
   "metadata": {
    "collapsed": false,
    "ExecuteTime": {
     "end_time": "2023-06-15T05:04:25.949093Z",
     "start_time": "2023-06-15T05:04:25.940641Z"
    }
   }
  },
  {
   "cell_type": "markdown",
   "source": [
    "Se calculan las emisiones que han podido implicar el proceso"
   ],
   "metadata": {
    "collapsed": false
   }
  },
  {
   "cell_type": "code",
   "execution_count": 17,
   "outputs": [
    {
     "name": "stdout",
     "output_type": "stream",
     "text": [
      "Emisiones de CO2 (Kg)0.03872655477183761\n"
     ]
    }
   ],
   "source": [
    "emisiones = tracker.stop()\n",
    "print(\"Emisiones de CO2 (Kg)\" + str(emisiones))"
   ],
   "metadata": {
    "collapsed": false,
    "ExecuteTime": {
     "end_time": "2023-06-15T05:04:28.861075Z",
     "start_time": "2023-06-15T05:04:25.944978Z"
    }
   }
  },
  {
   "cell_type": "markdown",
   "source": [
    "Se procede a graficar los resultados"
   ],
   "metadata": {
    "collapsed": false
   }
  },
  {
   "cell_type": "code",
   "execution_count": 18,
   "outputs": [
    {
     "data": {
      "text/plain": "<Figure size 1200x800 with 1 Axes>",
      "image/png": "[encoded data removed]"
     },
     "metadata": {},
     "output_type": "display_data"
    },
    {
     "data": {
      "text/plain": "<Figure size 1200x800 with 1 Axes>",
      "image/png": "[encoded data removed]"
     },
     "metadata": {},
     "output_type": "display_data"
    }
   ],
   "source": [
    "agent.plot_rewards()\n",
    "agent.plot_loss()"
   ],
   "metadata": {
    "collapsed": false,
    "ExecuteTime": {
     "end_time": "2023-06-15T05:04:29.538445Z",
     "start_time": "2023-06-15T05:04:28.863552Z"
    }
   }
  },
  {
   "cell_type": "code",
   "execution_count": 27,
   "outputs": [],
   "source": [
    "import numpy as np\n",
    "np.savetxt('./resultados_ejecuciones/T2_QVC_DQN_CartPole_param2_tr.txt', agent.training_rewards)\n",
    "np.savetxt('./resultados_ejecuciones/T2_QVC_DQN_CartPole_param2_mean_tr.txt', agent.mean_training_rewards)\n",
    "np.savetxt('./resultados_ejecuciones/T2_QVC_DQN_CartPole_param2_loss.txt', agent.training_loss)"
   ],
   "metadata": {
    "collapsed": false,
    "ExecuteTime": {
     "end_time": "2023-06-15T08:36:28.115996Z",
     "start_time": "2023-06-15T08:36:28.079524Z"
    }
   }
  },
  {
   "cell_type": "code",
   "execution_count": null,
   "outputs": [],
   "source": [],
   "metadata": {
    "collapsed": false
   }
  },
  {
   "cell_type": "markdown",
   "source": [],
   "metadata": {
    "collapsed": false
   }
  }
 ],
 "metadata": {
  "kernelspec": {
   "display_name": "Python 3",
   "language": "python",
   "name": "python3"
  },
  "language_info": {
   "codemirror_mode": {
    "name": "ipython",
    "version": 2
   },
   "file_extension": ".py",
   "mimetype": "text/x-python",
   "name": "python",
   "nbconvert_exporter": "python",
   "pygments_lexer": "ipython2",
   "version": "2.7.6"
  }
 },
 "nbformat": 4,
 "nbformat_minor": 0
}
