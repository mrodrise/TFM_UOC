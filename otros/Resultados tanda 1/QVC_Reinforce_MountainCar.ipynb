{
 "cells": [
  {
   "cell_type": "markdown",
   "source": [
    "<div style=\"width: 100%; clear: both;\">\n",
    "<div style=\"float: left; width: 50%;\">\n",
    "<img src=\"http://www.uoc.edu/portal/_resources/common/imatges/marca_UOC/UOC_Masterbrand.jpg\", align=\"left\">\n",
    "</div>\n",
    "<div style=\"float: right; width: 50%;\">\n",
    "<p style=\"margin: 0; padding-top: 22px; text-align:right;\">Trabajo final de master</p>\n",
    "<p style=\"margin: 0; text-align:right;\">Máster universitario en Ciencia de datos (<i>Data science</i>)</p>\n",
    "<p style=\"margin: 0; text-align:right; padding-button: 100px;\">Estudios de Informática, Multimedia y Telecomunicación</p>\n",
    "</div>\n",
    "</div>\n",
    "<div style=\"width:100%;\">&nbsp;</div>\n",
    "\n",
    "\n",
    "# Estado de la computación cuántica en el aprendizaje por refuerzo y cómo aplicarla en DQN y Reinforce con Línea Base\n",
    "\n",
    "## QVC aplicado a Reinforce en entorno Acrobot\n",
    "\n"
   ],
   "metadata": {
    "collapsed": false
   }
  },
  {
   "cell_type": "markdown",
   "source": [
    "Se importan las librerías necesarias para ejecutar el Jupyter Notebook"
   ],
   "metadata": {
    "collapsed": false
   }
  },
  {
   "cell_type": "code",
   "execution_count": 1,
   "outputs": [],
   "source": [
    "# Importamos timeit para tomar mediciones de tiempo de ejecución\n",
    "import timeit\n",
    "\n",
    "# Importamos codecarbon para tomar medidas de huella de carbono\n",
    "from codecarbon import EmissionsTracker"
   ],
   "metadata": {
    "collapsed": false,
    "ExecuteTime": {
     "end_time": "2023-06-06T20:42:09.794568Z",
     "start_time": "2023-06-06T20:42:08.219048Z"
    }
   }
  },
  {
   "cell_type": "code",
   "execution_count": 2,
   "outputs": [],
   "source": [
    "import sys\n",
    "# Para importar nuestras librerías, que están en otro directorio\n",
    "sys.path.append(\"../librerias\")\n",
    "\n",
    "# Librería con circuito cuántico definido\n",
    "import QVC\n",
    "\n",
    "# Modelos de aprendizaje por refuerzo\n",
    "import Model\n",
    "\n",
    "# Agentes\n",
    "import Agent"
   ],
   "metadata": {
    "collapsed": false,
    "ExecuteTime": {
     "end_time": "2023-06-06T20:42:14.619436Z",
     "start_time": "2023-06-06T20:42:09.794330Z"
    }
   }
  },
  {
   "cell_type": "code",
   "execution_count": 3,
   "outputs": [],
   "source": [
    "# Se importa la librería gymnasium para utilizar los entornos CartPole y Acrobot\n",
    "import gym as gym"
   ],
   "metadata": {
    "collapsed": false,
    "ExecuteTime": {
     "end_time": "2023-06-06T20:42:14.644420Z",
     "start_time": "2023-06-06T20:42:14.619084Z"
    }
   }
  },
  {
   "cell_type": "code",
   "execution_count": 4,
   "outputs": [],
   "source": [
    "import torch    # necesario para la capa softmax"
   ],
   "metadata": {
    "collapsed": false,
    "ExecuteTime": {
     "end_time": "2023-06-06T20:42:14.644691Z",
     "start_time": "2023-06-06T20:42:14.627545Z"
    }
   }
  },
  {
   "cell_type": "markdown",
   "source": [
    "Se crea el entorno, en este caso Acrobot"
   ],
   "metadata": {
    "collapsed": false
   }
  },
  {
   "cell_type": "code",
   "execution_count": 5,
   "outputs": [
    {
     "name": "stderr",
     "output_type": "stream",
     "text": [
      "/Users/marcoemiliorodriguezserrano/anaconda3/lib/python3.10/site-packages/gym/core.py:329: DeprecationWarning: \u001B[33mWARN: Initializing wrapper in old step API which returns one bool instead of two. It is recommended to set `new_step_api=True` to use new step API. This will be the default behaviour in future.\u001B[0m\n",
      "  deprecation(\n",
      "/Users/marcoemiliorodriguezserrano/anaconda3/lib/python3.10/site-packages/gym/wrappers/step_api_compatibility.py:39: DeprecationWarning: \u001B[33mWARN: Initializing environment in old step API which returns one bool instead of two. It is recommended to set `new_step_api=True` to use new step API. This will be the default behaviour in future.\u001B[0m\n",
      "  deprecation(\n"
     ]
    }
   ],
   "source": [
    "env = gym.envs.make(\"MountainCar-v0\")"
   ],
   "metadata": {
    "collapsed": false,
    "ExecuteTime": {
     "end_time": "2023-06-06T20:42:14.687828Z",
     "start_time": "2023-06-06T20:42:14.638904Z"
    }
   }
  },
  {
   "cell_type": "markdown",
   "source": [
    "Se definen los hiperparámetros que se utilizarán en el modelo de aprendizaje por refuerzo"
   ],
   "metadata": {
    "collapsed": false
   }
  },
  {
   "cell_type": "code",
   "execution_count": 6,
   "outputs": [],
   "source": [
    "# Hiperparámetros del modelo de aprendizaje por refuerzo\n",
    "lr = 0.01            #Velocidad de aprendizaje\n",
    "MAX_EPISODES = 1500   #Número máximo de episodios (el agente debe aprender antes de llegar a este valor)\n",
    "GAMMA = 0.99          #Valor gamma de la ecuación de Bellman\n",
    "BATCH_SIZE = 10      #Conjunto a coger del buffer para la red neuronal"
   ],
   "metadata": {
    "collapsed": false,
    "ExecuteTime": {
     "end_time": "2023-06-06T20:42:14.688002Z",
     "start_time": "2023-06-06T20:42:14.661584Z"
    }
   }
  },
  {
   "cell_type": "markdown",
   "source": [
    "Se definen los hiperparámetros del circuito QVC"
   ],
   "metadata": {
    "collapsed": false
   }
  },
  {
   "cell_type": "code",
   "execution_count": 7,
   "outputs": [],
   "source": [
    "# Hiperparámetros del QVC\n",
    "n_layers = 5    # número de capas del Ansatz\n",
    "n_qubits = 2   # qubits definidos, en este caso son 6 al disponer de 6 variables de observación\n",
    "n_actions = 3   # número de acciones, se definen 3 para Acrobot\n",
    "environment = 2 # entorno MountainCar\n",
    "quantum_device = \"default.qubit\" # dispositivo cuántico, se define un simulador cuántico"
   ],
   "metadata": {
    "collapsed": false,
    "ExecuteTime": {
     "end_time": "2023-06-06T20:42:14.688078Z",
     "start_time": "2023-06-06T20:42:14.671159Z"
    }
   }
  },
  {
   "cell_type": "markdown",
   "source": [
    "Se define el circuito cuántico que sustituye a la red neuronal"
   ],
   "metadata": {
    "collapsed": false
   }
  },
  {
   "cell_type": "code",
   "execution_count": 8,
   "outputs": [],
   "source": [
    "net = QVC.QuantumNet(n_layers, n_qubits, n_actions, environment, quantum_device)"
   ],
   "metadata": {
    "collapsed": false,
    "ExecuteTime": {
     "end_time": "2023-06-06T20:42:14.835982Z",
     "start_time": "2023-06-06T20:42:14.681057Z"
    }
   }
  },
  {
   "cell_type": "markdown",
   "source": [
    "Se crea el modelo Reinforce con línea base"
   ],
   "metadata": {
    "collapsed": false
   }
  },
  {
   "cell_type": "code",
   "execution_count": 9,
   "outputs": [],
   "source": [
    "reinforce = Model.PGReinforce(env, net, learning_rate=lr)"
   ],
   "metadata": {
    "collapsed": false,
    "ExecuteTime": {
     "end_time": "2023-06-06T20:42:14.870547Z",
     "start_time": "2023-06-06T20:42:14.838546Z"
    }
   }
  },
  {
   "cell_type": "markdown",
   "source": [
    "Se crea el agente, se le pasa como parámetro los dos modelos inicializados que contienen un circuito cuántico"
   ],
   "metadata": {
    "collapsed": false
   }
  },
  {
   "cell_type": "code",
   "execution_count": 10,
   "outputs": [],
   "source": [
    "agent = Agent.ReinforceAgent(env, reinforce)"
   ],
   "metadata": {
    "collapsed": false,
    "ExecuteTime": {
     "end_time": "2023-06-06T20:42:14.870810Z",
     "start_time": "2023-06-06T20:42:14.846345Z"
    }
   }
  },
  {
   "cell_type": "markdown",
   "source": [
    "Se prepara el entorno para iniciar las mediciones de CO2"
   ],
   "metadata": {
    "collapsed": false
   }
  },
  {
   "cell_type": "code",
   "execution_count": 11,
   "outputs": [],
   "source": [
    "# Se define la carpeta de salida de los archivos de emisiones\n",
    "output_dir = './emisiones/emisiones_QVC_Reinforce_MountainCar'\n",
    "\n",
    "# Se crea una instancia de EmissionsTracker y se configura la carpeta de salida\n",
    "tracker = EmissionsTracker(output_dir=output_dir, log_level = \"critical\")\n",
    "\n",
    "# Se inicializa el seguimiento de las emisiones\n",
    "tracker.start()"
   ],
   "metadata": {
    "collapsed": false,
    "ExecuteTime": {
     "end_time": "2023-06-06T20:42:19.821949Z",
     "start_time": "2023-06-06T20:42:14.856462Z"
    }
   }
  },
  {
   "cell_type": "markdown",
   "source": [
    "Iniciamos el cronómetro para medir el tiempo del proceso"
   ],
   "metadata": {
    "collapsed": false
   }
  },
  {
   "cell_type": "code",
   "execution_count": 12,
   "outputs": [],
   "source": [
    "tiempo_inicio = timeit.default_timer()"
   ],
   "metadata": {
    "collapsed": false,
    "ExecuteTime": {
     "end_time": "2023-06-06T20:42:19.841261Z",
     "start_time": "2023-06-06T20:42:19.815857Z"
    }
   }
  },
  {
   "cell_type": "markdown",
   "source": [
    "Se inicia el entrenamiento del agente"
   ],
   "metadata": {
    "collapsed": false
   }
  },
  {
   "cell_type": "code",
   "execution_count": 13,
   "outputs": [
    {
     "name": "stdout",
     "output_type": "stream",
     "text": [
      "Entrenando...\n",
      "Episodio 22 Recompensa media -200.00\t\t"
     ]
    },
    {
     "name": "stderr",
     "output_type": "stream",
     "text": [
      "ERROR: EnergyDriver_executeCommands [via readSample] returned 0xe00002bc\n",
      "ERROR: EnergyDriver_executeCommands [via readSample] returned 0xe00002bc\n",
      "ERROR: EnergyDriver_executeCommands [via readSample] returned 0xe00002bc\n"
     ]
    },
    {
     "name": "stdout",
     "output_type": "stream",
     "text": [
      "Episodio 45 Recompensa media -200.00\t\t"
     ]
    },
    {
     "ename": "KeyboardInterrupt",
     "evalue": "",
     "output_type": "error",
     "traceback": [
      "\u001B[0;31m---------------------------------------------------------------------------\u001B[0m",
      "\u001B[0;31mKeyboardInterrupt\u001B[0m                         Traceback (most recent call last)",
      "Cell \u001B[0;32mIn[13], line 1\u001B[0m\n\u001B[0;32m----> 1\u001B[0m \u001B[43magent\u001B[49m\u001B[38;5;241;43m.\u001B[39;49m\u001B[43mtrain\u001B[49m\u001B[43m(\u001B[49m\u001B[43mgamma\u001B[49m\u001B[38;5;241;43m=\u001B[39;49m\u001B[43mGAMMA\u001B[49m\u001B[43m,\u001B[49m\u001B[43m \u001B[49m\u001B[43mmax_episodes\u001B[49m\u001B[38;5;241;43m=\u001B[39;49m\u001B[43mMAX_EPISODES\u001B[49m\u001B[43m,\u001B[49m\n\u001B[1;32m      2\u001B[0m \u001B[43m              \u001B[49m\u001B[43mbatch_size\u001B[49m\u001B[38;5;241;43m=\u001B[39;49m\u001B[43mBATCH_SIZE\u001B[49m\u001B[43m)\u001B[49m\n",
      "File \u001B[0;32m~/PycharmProjects/TFM_UOC/cuadernos_jupyter/../librerias/Agent.py:250\u001B[0m, in \u001B[0;36mReinforceAgent.train\u001B[0;34m(self, gamma, max_episodes, batch_size)\u001B[0m\n\u001B[1;32m    248\u001B[0m \u001B[38;5;66;03m# Actualizamos la red cuando se completa el tamaño del batch\u001B[39;00m\n\u001B[1;32m    249\u001B[0m \u001B[38;5;28;01mif\u001B[39;00m \u001B[38;5;28mself\u001B[39m\u001B[38;5;241m.\u001B[39mbatch_counter \u001B[38;5;241m==\u001B[39m \u001B[38;5;28mself\u001B[39m\u001B[38;5;241m.\u001B[39mbatch_size:\n\u001B[0;32m--> 250\u001B[0m     \u001B[38;5;28;43mself\u001B[39;49m\u001B[38;5;241;43m.\u001B[39;49m\u001B[43mupdate\u001B[49m\u001B[43m(\u001B[49m\u001B[38;5;28;43mself\u001B[39;49m\u001B[38;5;241;43m.\u001B[39;49m\u001B[43mbatch_states\u001B[49m\u001B[43m,\u001B[49m\u001B[43m \u001B[49m\u001B[38;5;28;43mself\u001B[39;49m\u001B[38;5;241;43m.\u001B[39;49m\u001B[43mbatch_rewards\u001B[49m\u001B[43m,\u001B[49m\u001B[43m \u001B[49m\u001B[38;5;28;43mself\u001B[39;49m\u001B[38;5;241;43m.\u001B[39;49m\u001B[43mbatch_actions\u001B[49m\u001B[43m)\u001B[49m\n\u001B[1;32m    251\u001B[0m     \u001B[38;5;28mself\u001B[39m\u001B[38;5;241m.\u001B[39mtraining_loss\u001B[38;5;241m.\u001B[39mappend(\u001B[38;5;28msum\u001B[39m(\u001B[38;5;28mself\u001B[39m\u001B[38;5;241m.\u001B[39mupdate_loss))\n\u001B[1;32m    252\u001B[0m     \u001B[38;5;28mself\u001B[39m\u001B[38;5;241m.\u001B[39mupdate_loss \u001B[38;5;241m=\u001B[39m []\n",
      "File \u001B[0;32m~/PycharmProjects/TFM_UOC/cuadernos_jupyter/../librerias/Agent.py:300\u001B[0m, in \u001B[0;36mReinforceAgent.update\u001B[0;34m(self, batch_s, batch_r, batch_a)\u001B[0m\n\u001B[1;32m    298\u001B[0m reward_t \u001B[38;5;241m=\u001B[39m torch\u001B[38;5;241m.\u001B[39mFloatTensor(np\u001B[38;5;241m.\u001B[39marray(batch_r))\n\u001B[1;32m    299\u001B[0m action_t \u001B[38;5;241m=\u001B[39m torch\u001B[38;5;241m.\u001B[39mLongTensor(np\u001B[38;5;241m.\u001B[39marray(batch_a))\n\u001B[0;32m--> 300\u001B[0m loss \u001B[38;5;241m=\u001B[39m \u001B[38;5;28;43mself\u001B[39;49m\u001B[38;5;241;43m.\u001B[39;49m\u001B[43mcalculate_loss\u001B[49m\u001B[43m(\u001B[49m\u001B[43mstate_t\u001B[49m\u001B[43m,\u001B[49m\u001B[43m \u001B[49m\u001B[43maction_t\u001B[49m\u001B[43m,\u001B[49m\u001B[43m \u001B[49m\u001B[43mreward_t\u001B[49m\u001B[43m)\u001B[49m  \u001B[38;5;66;03m# calculamos la pérdida\u001B[39;00m\n\u001B[1;32m    301\u001B[0m loss\u001B[38;5;241m.\u001B[39mbackward()  \u001B[38;5;66;03m# hacemos la diferencia para obtener los gradientes\u001B[39;00m\n\u001B[1;32m    302\u001B[0m \u001B[38;5;28mself\u001B[39m\u001B[38;5;241m.\u001B[39mpgnetwork\u001B[38;5;241m.\u001B[39moptimizer\u001B[38;5;241m.\u001B[39mstep()  \u001B[38;5;66;03m# aplicamos los gradientes a la red neuronal\u001B[39;00m\n",
      "File \u001B[0;32m~/PycharmProjects/TFM_UOC/cuadernos_jupyter/../librerias/Agent.py:313\u001B[0m, in \u001B[0;36mReinforceAgent.calculate_loss\u001B[0;34m(self, state_t, action_t, reward_t)\u001B[0m\n\u001B[1;32m    312\u001B[0m \u001B[38;5;28;01mdef\u001B[39;00m \u001B[38;5;21mcalculate_loss\u001B[39m(\u001B[38;5;28mself\u001B[39m, state_t, action_t, reward_t):\n\u001B[0;32m--> 313\u001B[0m     logprob \u001B[38;5;241m=\u001B[39m torch\u001B[38;5;241m.\u001B[39mlog(\u001B[38;5;28;43mself\u001B[39;49m\u001B[38;5;241;43m.\u001B[39;49m\u001B[43mpgnetwork\u001B[49m\u001B[38;5;241;43m.\u001B[39;49m\u001B[43mget_action_prob\u001B[49m\u001B[43m(\u001B[49m\u001B[43mstate_t\u001B[49m\u001B[43m)\u001B[49m)\n\u001B[1;32m    314\u001B[0m     selected_logprobs \u001B[38;5;241m=\u001B[39m reward_t \u001B[38;5;241m*\u001B[39m \\\n\u001B[1;32m    315\u001B[0m                         logprob[np\u001B[38;5;241m.\u001B[39marange(\u001B[38;5;28mlen\u001B[39m(action_t)), action_t]\n\u001B[1;32m    316\u001B[0m     loss \u001B[38;5;241m=\u001B[39m \u001B[38;5;241m-\u001B[39mselected_logprobs\u001B[38;5;241m.\u001B[39mmean()\n",
      "File \u001B[0;32m~/PycharmProjects/TFM_UOC/cuadernos_jupyter/../librerias/Model.py:67\u001B[0m, in \u001B[0;36mPGReinforce.get_action_prob\u001B[0;34m(self, state)\u001B[0m\n\u001B[1;32m     66\u001B[0m \u001B[38;5;28;01mdef\u001B[39;00m \u001B[38;5;21mget_action_prob\u001B[39m(\u001B[38;5;28mself\u001B[39m, state):\n\u001B[0;32m---> 67\u001B[0m     action_probs \u001B[38;5;241m=\u001B[39m \u001B[38;5;28;43mself\u001B[39;49m\u001B[38;5;241;43m.\u001B[39;49m\u001B[43mmodel\u001B[49m\u001B[43m(\u001B[49m\u001B[43mtorch\u001B[49m\u001B[38;5;241;43m.\u001B[39;49m\u001B[43mFloatTensor\u001B[49m\u001B[43m(\u001B[49m\u001B[43mstate\u001B[49m\u001B[43m)\u001B[49m\u001B[43m)\u001B[49m\n\u001B[1;32m     68\u001B[0m     \u001B[38;5;28;01mreturn\u001B[39;00m action_probs\n",
      "File \u001B[0;32m~/anaconda3/lib/python3.10/site-packages/torch/nn/modules/module.py:1130\u001B[0m, in \u001B[0;36mModule._call_impl\u001B[0;34m(self, *input, **kwargs)\u001B[0m\n\u001B[1;32m   1126\u001B[0m \u001B[38;5;66;03m# If we don't have any hooks, we want to skip the rest of the logic in\u001B[39;00m\n\u001B[1;32m   1127\u001B[0m \u001B[38;5;66;03m# this function, and just call forward.\u001B[39;00m\n\u001B[1;32m   1128\u001B[0m \u001B[38;5;28;01mif\u001B[39;00m \u001B[38;5;129;01mnot\u001B[39;00m (\u001B[38;5;28mself\u001B[39m\u001B[38;5;241m.\u001B[39m_backward_hooks \u001B[38;5;129;01mor\u001B[39;00m \u001B[38;5;28mself\u001B[39m\u001B[38;5;241m.\u001B[39m_forward_hooks \u001B[38;5;129;01mor\u001B[39;00m \u001B[38;5;28mself\u001B[39m\u001B[38;5;241m.\u001B[39m_forward_pre_hooks \u001B[38;5;129;01mor\u001B[39;00m _global_backward_hooks\n\u001B[1;32m   1129\u001B[0m         \u001B[38;5;129;01mor\u001B[39;00m _global_forward_hooks \u001B[38;5;129;01mor\u001B[39;00m _global_forward_pre_hooks):\n\u001B[0;32m-> 1130\u001B[0m     \u001B[38;5;28;01mreturn\u001B[39;00m \u001B[43mforward_call\u001B[49m\u001B[43m(\u001B[49m\u001B[38;5;241;43m*\u001B[39;49m\u001B[38;5;28;43minput\u001B[39;49m\u001B[43m,\u001B[49m\u001B[43m \u001B[49m\u001B[38;5;241;43m*\u001B[39;49m\u001B[38;5;241;43m*\u001B[39;49m\u001B[43mkwargs\u001B[49m\u001B[43m)\u001B[49m\n\u001B[1;32m   1131\u001B[0m \u001B[38;5;66;03m# Do not call functions when jit is used\u001B[39;00m\n\u001B[1;32m   1132\u001B[0m full_backward_hooks, non_full_backward_hooks \u001B[38;5;241m=\u001B[39m [], []\n",
      "File \u001B[0;32m~/anaconda3/lib/python3.10/site-packages/torch/nn/modules/container.py:139\u001B[0m, in \u001B[0;36mSequential.forward\u001B[0;34m(self, input)\u001B[0m\n\u001B[1;32m    137\u001B[0m \u001B[38;5;28;01mdef\u001B[39;00m \u001B[38;5;21mforward\u001B[39m(\u001B[38;5;28mself\u001B[39m, \u001B[38;5;28minput\u001B[39m):\n\u001B[1;32m    138\u001B[0m     \u001B[38;5;28;01mfor\u001B[39;00m module \u001B[38;5;129;01min\u001B[39;00m \u001B[38;5;28mself\u001B[39m:\n\u001B[0;32m--> 139\u001B[0m         \u001B[38;5;28minput\u001B[39m \u001B[38;5;241m=\u001B[39m \u001B[43mmodule\u001B[49m\u001B[43m(\u001B[49m\u001B[38;5;28;43minput\u001B[39;49m\u001B[43m)\u001B[49m\n\u001B[1;32m    140\u001B[0m     \u001B[38;5;28;01mreturn\u001B[39;00m \u001B[38;5;28minput\u001B[39m\n",
      "File \u001B[0;32m~/anaconda3/lib/python3.10/site-packages/torch/nn/modules/module.py:1130\u001B[0m, in \u001B[0;36mModule._call_impl\u001B[0;34m(self, *input, **kwargs)\u001B[0m\n\u001B[1;32m   1126\u001B[0m \u001B[38;5;66;03m# If we don't have any hooks, we want to skip the rest of the logic in\u001B[39;00m\n\u001B[1;32m   1127\u001B[0m \u001B[38;5;66;03m# this function, and just call forward.\u001B[39;00m\n\u001B[1;32m   1128\u001B[0m \u001B[38;5;28;01mif\u001B[39;00m \u001B[38;5;129;01mnot\u001B[39;00m (\u001B[38;5;28mself\u001B[39m\u001B[38;5;241m.\u001B[39m_backward_hooks \u001B[38;5;129;01mor\u001B[39;00m \u001B[38;5;28mself\u001B[39m\u001B[38;5;241m.\u001B[39m_forward_hooks \u001B[38;5;129;01mor\u001B[39;00m \u001B[38;5;28mself\u001B[39m\u001B[38;5;241m.\u001B[39m_forward_pre_hooks \u001B[38;5;129;01mor\u001B[39;00m _global_backward_hooks\n\u001B[1;32m   1129\u001B[0m         \u001B[38;5;129;01mor\u001B[39;00m _global_forward_hooks \u001B[38;5;129;01mor\u001B[39;00m _global_forward_pre_hooks):\n\u001B[0;32m-> 1130\u001B[0m     \u001B[38;5;28;01mreturn\u001B[39;00m \u001B[43mforward_call\u001B[49m\u001B[43m(\u001B[49m\u001B[38;5;241;43m*\u001B[39;49m\u001B[38;5;28;43minput\u001B[39;49m\u001B[43m,\u001B[49m\u001B[43m \u001B[49m\u001B[38;5;241;43m*\u001B[39;49m\u001B[38;5;241;43m*\u001B[39;49m\u001B[43mkwargs\u001B[49m\u001B[43m)\u001B[49m\n\u001B[1;32m   1131\u001B[0m \u001B[38;5;66;03m# Do not call functions when jit is used\u001B[39;00m\n\u001B[1;32m   1132\u001B[0m full_backward_hooks, non_full_backward_hooks \u001B[38;5;241m=\u001B[39m [], []\n",
      "File \u001B[0;32m~/PycharmProjects/TFM_UOC/cuadernos_jupyter/../librerias/QVC.py:121\u001B[0m, in \u001B[0;36mQuantumNet.forward\u001B[0;34m(self, inputs)\u001B[0m\n\u001B[1;32m    117\u001B[0m         inputs \u001B[38;5;241m=\u001B[39m torch\u001B[38;5;241m.\u001B[39matan(inputs)\n\u001B[1;32m    118\u001B[0m \u001B[38;5;66;03m#        else:  # Acrobot\u001B[39;00m\n\u001B[1;32m    119\u001B[0m \u001B[38;5;66;03m#            inputs = inputs * np.pi\u001B[39;00m\n\u001B[0;32m--> 121\u001B[0m         outputs \u001B[38;5;241m=\u001B[39m \u001B[38;5;28;43mself\u001B[39;49m\u001B[38;5;241;43m.\u001B[39;49m\u001B[43mq_layers\u001B[49m\u001B[43m(\u001B[49m\u001B[43minputs\u001B[49m\u001B[43m)\u001B[49m\n\u001B[1;32m    122\u001B[0m         outputs \u001B[38;5;241m=\u001B[39m (\u001B[38;5;241m1\u001B[39m \u001B[38;5;241m+\u001B[39m outputs) \u001B[38;5;241m/\u001B[39m \u001B[38;5;241m2\u001B[39m\n\u001B[1;32m    125\u001B[0m         \u001B[38;5;28;01mif\u001B[39;00m \u001B[38;5;28mself\u001B[39m\u001B[38;5;241m.\u001B[39menvironment \u001B[38;5;241m==\u001B[39m \u001B[38;5;241m0\u001B[39m:  \u001B[38;5;66;03m# Cartpole\u001B[39;00m\n",
      "File \u001B[0;32m~/anaconda3/lib/python3.10/site-packages/torch/nn/modules/module.py:1130\u001B[0m, in \u001B[0;36mModule._call_impl\u001B[0;34m(self, *input, **kwargs)\u001B[0m\n\u001B[1;32m   1126\u001B[0m \u001B[38;5;66;03m# If we don't have any hooks, we want to skip the rest of the logic in\u001B[39;00m\n\u001B[1;32m   1127\u001B[0m \u001B[38;5;66;03m# this function, and just call forward.\u001B[39;00m\n\u001B[1;32m   1128\u001B[0m \u001B[38;5;28;01mif\u001B[39;00m \u001B[38;5;129;01mnot\u001B[39;00m (\u001B[38;5;28mself\u001B[39m\u001B[38;5;241m.\u001B[39m_backward_hooks \u001B[38;5;129;01mor\u001B[39;00m \u001B[38;5;28mself\u001B[39m\u001B[38;5;241m.\u001B[39m_forward_hooks \u001B[38;5;129;01mor\u001B[39;00m \u001B[38;5;28mself\u001B[39m\u001B[38;5;241m.\u001B[39m_forward_pre_hooks \u001B[38;5;129;01mor\u001B[39;00m _global_backward_hooks\n\u001B[1;32m   1129\u001B[0m         \u001B[38;5;129;01mor\u001B[39;00m _global_forward_hooks \u001B[38;5;129;01mor\u001B[39;00m _global_forward_pre_hooks):\n\u001B[0;32m-> 1130\u001B[0m     \u001B[38;5;28;01mreturn\u001B[39;00m \u001B[43mforward_call\u001B[49m\u001B[43m(\u001B[49m\u001B[38;5;241;43m*\u001B[39;49m\u001B[38;5;28;43minput\u001B[39;49m\u001B[43m,\u001B[49m\u001B[43m \u001B[49m\u001B[38;5;241;43m*\u001B[39;49m\u001B[38;5;241;43m*\u001B[39;49m\u001B[43mkwargs\u001B[49m\u001B[43m)\u001B[49m\n\u001B[1;32m   1131\u001B[0m \u001B[38;5;66;03m# Do not call functions when jit is used\u001B[39;00m\n\u001B[1;32m   1132\u001B[0m full_backward_hooks, non_full_backward_hooks \u001B[38;5;241m=\u001B[39m [], []\n",
      "File \u001B[0;32m~/anaconda3/lib/python3.10/site-packages/pennylane/qnn/torch.py:309\u001B[0m, in \u001B[0;36mTorchLayer.forward\u001B[0;34m(self, inputs)\u001B[0m\n\u001B[1;32m    295\u001B[0m \u001B[38;5;124;03m\"\"\"Evaluates a forward pass through the QNode based upon input data and the initialized\u001B[39;00m\n\u001B[1;32m    296\u001B[0m \u001B[38;5;124;03mweights.\u001B[39;00m\n\u001B[1;32m    297\u001B[0m \n\u001B[0;32m   (...)\u001B[0m\n\u001B[1;32m    302\u001B[0m \u001B[38;5;124;03m    tensor: output data\u001B[39;00m\n\u001B[1;32m    303\u001B[0m \u001B[38;5;124;03m\"\"\"\u001B[39;00m\n\u001B[1;32m    305\u001B[0m \u001B[38;5;28;01mif\u001B[39;00m \u001B[38;5;28mlen\u001B[39m(inputs\u001B[38;5;241m.\u001B[39mshape) \u001B[38;5;241m>\u001B[39m \u001B[38;5;241m1\u001B[39m:\n\u001B[1;32m    306\u001B[0m     \u001B[38;5;66;03m# If the input size is not 1-dimensional, unstack the input along its first dimension,\u001B[39;00m\n\u001B[1;32m    307\u001B[0m     \u001B[38;5;66;03m# recursively call the forward pass on each of the yielded tensors, and then stack the\u001B[39;00m\n\u001B[1;32m    308\u001B[0m     \u001B[38;5;66;03m# outputs back into the correct shape\u001B[39;00m\n\u001B[0;32m--> 309\u001B[0m     reconstructor \u001B[38;5;241m=\u001B[39m [\u001B[38;5;28mself\u001B[39m\u001B[38;5;241m.\u001B[39mforward(x) \u001B[38;5;28;01mfor\u001B[39;00m x \u001B[38;5;129;01min\u001B[39;00m torch\u001B[38;5;241m.\u001B[39munbind(inputs)]\n\u001B[1;32m    310\u001B[0m     \u001B[38;5;28;01mreturn\u001B[39;00m torch\u001B[38;5;241m.\u001B[39mstack(reconstructor)\n\u001B[1;32m    312\u001B[0m \u001B[38;5;66;03m# If the input is 1-dimensional, calculate the forward pass as usual\u001B[39;00m\n",
      "File \u001B[0;32m~/anaconda3/lib/python3.10/site-packages/pennylane/qnn/torch.py:309\u001B[0m, in \u001B[0;36m<listcomp>\u001B[0;34m(.0)\u001B[0m\n\u001B[1;32m    295\u001B[0m \u001B[38;5;124;03m\"\"\"Evaluates a forward pass through the QNode based upon input data and the initialized\u001B[39;00m\n\u001B[1;32m    296\u001B[0m \u001B[38;5;124;03mweights.\u001B[39;00m\n\u001B[1;32m    297\u001B[0m \n\u001B[0;32m   (...)\u001B[0m\n\u001B[1;32m    302\u001B[0m \u001B[38;5;124;03m    tensor: output data\u001B[39;00m\n\u001B[1;32m    303\u001B[0m \u001B[38;5;124;03m\"\"\"\u001B[39;00m\n\u001B[1;32m    305\u001B[0m \u001B[38;5;28;01mif\u001B[39;00m \u001B[38;5;28mlen\u001B[39m(inputs\u001B[38;5;241m.\u001B[39mshape) \u001B[38;5;241m>\u001B[39m \u001B[38;5;241m1\u001B[39m:\n\u001B[1;32m    306\u001B[0m     \u001B[38;5;66;03m# If the input size is not 1-dimensional, unstack the input along its first dimension,\u001B[39;00m\n\u001B[1;32m    307\u001B[0m     \u001B[38;5;66;03m# recursively call the forward pass on each of the yielded tensors, and then stack the\u001B[39;00m\n\u001B[1;32m    308\u001B[0m     \u001B[38;5;66;03m# outputs back into the correct shape\u001B[39;00m\n\u001B[0;32m--> 309\u001B[0m     reconstructor \u001B[38;5;241m=\u001B[39m [\u001B[38;5;28;43mself\u001B[39;49m\u001B[38;5;241;43m.\u001B[39;49m\u001B[43mforward\u001B[49m\u001B[43m(\u001B[49m\u001B[43mx\u001B[49m\u001B[43m)\u001B[49m \u001B[38;5;28;01mfor\u001B[39;00m x \u001B[38;5;129;01min\u001B[39;00m torch\u001B[38;5;241m.\u001B[39munbind(inputs)]\n\u001B[1;32m    310\u001B[0m     \u001B[38;5;28;01mreturn\u001B[39;00m torch\u001B[38;5;241m.\u001B[39mstack(reconstructor)\n\u001B[1;32m    312\u001B[0m \u001B[38;5;66;03m# If the input is 1-dimensional, calculate the forward pass as usual\u001B[39;00m\n",
      "File \u001B[0;32m~/anaconda3/lib/python3.10/site-packages/pennylane/qnn/torch.py:313\u001B[0m, in \u001B[0;36mTorchLayer.forward\u001B[0;34m(self, inputs)\u001B[0m\n\u001B[1;32m    310\u001B[0m     \u001B[38;5;28;01mreturn\u001B[39;00m torch\u001B[38;5;241m.\u001B[39mstack(reconstructor)\n\u001B[1;32m    312\u001B[0m \u001B[38;5;66;03m# If the input is 1-dimensional, calculate the forward pass as usual\u001B[39;00m\n\u001B[0;32m--> 313\u001B[0m \u001B[38;5;28;01mreturn\u001B[39;00m \u001B[38;5;28;43mself\u001B[39;49m\u001B[38;5;241;43m.\u001B[39;49m\u001B[43m_evaluate_qnode\u001B[49m\u001B[43m(\u001B[49m\u001B[43minputs\u001B[49m\u001B[43m)\u001B[49m\n",
      "File \u001B[0;32m~/anaconda3/lib/python3.10/site-packages/pennylane/qnn/torch.py:328\u001B[0m, in \u001B[0;36mTorchLayer._evaluate_qnode\u001B[0;34m(self, x)\u001B[0m\n\u001B[1;32m    316\u001B[0m \u001B[38;5;124;03m\"\"\"Evaluates the QNode for a single input datapoint.\u001B[39;00m\n\u001B[1;32m    317\u001B[0m \n\u001B[1;32m    318\u001B[0m \u001B[38;5;124;03mArgs:\u001B[39;00m\n\u001B[0;32m   (...)\u001B[0m\n\u001B[1;32m    322\u001B[0m \u001B[38;5;124;03m    tensor: output datapoint\u001B[39;00m\n\u001B[1;32m    323\u001B[0m \u001B[38;5;124;03m\"\"\"\u001B[39;00m\n\u001B[1;32m    324\u001B[0m kwargs \u001B[38;5;241m=\u001B[39m {\n\u001B[1;32m    325\u001B[0m     \u001B[38;5;241m*\u001B[39m\u001B[38;5;241m*\u001B[39m{\u001B[38;5;28mself\u001B[39m\u001B[38;5;241m.\u001B[39minput_arg: x},\n\u001B[1;32m    326\u001B[0m     \u001B[38;5;241m*\u001B[39m\u001B[38;5;241m*\u001B[39m{arg: weight\u001B[38;5;241m.\u001B[39mto(x) \u001B[38;5;28;01mfor\u001B[39;00m arg, weight \u001B[38;5;129;01min\u001B[39;00m \u001B[38;5;28mself\u001B[39m\u001B[38;5;241m.\u001B[39mqnode_weights\u001B[38;5;241m.\u001B[39mitems()},\n\u001B[1;32m    327\u001B[0m }\n\u001B[0;32m--> 328\u001B[0m res \u001B[38;5;241m=\u001B[39m \u001B[38;5;28;43mself\u001B[39;49m\u001B[38;5;241;43m.\u001B[39;49m\u001B[43mqnode\u001B[49m\u001B[43m(\u001B[49m\u001B[38;5;241;43m*\u001B[39;49m\u001B[38;5;241;43m*\u001B[39;49m\u001B[43mkwargs\u001B[49m\u001B[43m)\u001B[49m\n\u001B[1;32m    330\u001B[0m \u001B[38;5;28;01mif\u001B[39;00m \u001B[38;5;28misinstance\u001B[39m(res, torch\u001B[38;5;241m.\u001B[39mTensor):\n\u001B[1;32m    331\u001B[0m     \u001B[38;5;28;01mreturn\u001B[39;00m res\u001B[38;5;241m.\u001B[39mtype(x\u001B[38;5;241m.\u001B[39mdtype)\n",
      "File \u001B[0;32m~/anaconda3/lib/python3.10/site-packages/pennylane/qnode.py:867\u001B[0m, in \u001B[0;36mQNode.__call__\u001B[0;34m(self, *args, **kwargs)\u001B[0m\n\u001B[1;32m    865\u001B[0m     \u001B[38;5;28mself\u001B[39m\u001B[38;5;241m.\u001B[39mexecute_kwargs\u001B[38;5;241m.\u001B[39mpop(\u001B[38;5;124m\"\u001B[39m\u001B[38;5;124mmode\u001B[39m\u001B[38;5;124m\"\u001B[39m)\n\u001B[1;32m    866\u001B[0m \u001B[38;5;66;03m# pylint: disable=unexpected-keyword-arg\u001B[39;00m\n\u001B[0;32m--> 867\u001B[0m res \u001B[38;5;241m=\u001B[39m \u001B[43mqml\u001B[49m\u001B[38;5;241;43m.\u001B[39;49m\u001B[43mexecute\u001B[49m\u001B[43m(\u001B[49m\n\u001B[1;32m    868\u001B[0m \u001B[43m    \u001B[49m\u001B[43m[\u001B[49m\u001B[38;5;28;43mself\u001B[39;49m\u001B[38;5;241;43m.\u001B[39;49m\u001B[43mtape\u001B[49m\u001B[43m]\u001B[49m\u001B[43m,\u001B[49m\n\u001B[1;32m    869\u001B[0m \u001B[43m    \u001B[49m\u001B[43mdevice\u001B[49m\u001B[38;5;241;43m=\u001B[39;49m\u001B[38;5;28;43mself\u001B[39;49m\u001B[38;5;241;43m.\u001B[39;49m\u001B[43mdevice\u001B[49m\u001B[43m,\u001B[49m\n\u001B[1;32m    870\u001B[0m \u001B[43m    \u001B[49m\u001B[43mgradient_fn\u001B[49m\u001B[38;5;241;43m=\u001B[39;49m\u001B[38;5;28;43mself\u001B[39;49m\u001B[38;5;241;43m.\u001B[39;49m\u001B[43mgradient_fn\u001B[49m\u001B[43m,\u001B[49m\n\u001B[1;32m    871\u001B[0m \u001B[43m    \u001B[49m\u001B[43minterface\u001B[49m\u001B[38;5;241;43m=\u001B[39;49m\u001B[38;5;28;43mself\u001B[39;49m\u001B[38;5;241;43m.\u001B[39;49m\u001B[43minterface\u001B[49m\u001B[43m,\u001B[49m\n\u001B[1;32m    872\u001B[0m \u001B[43m    \u001B[49m\u001B[43mgradient_kwargs\u001B[49m\u001B[38;5;241;43m=\u001B[39;49m\u001B[38;5;28;43mself\u001B[39;49m\u001B[38;5;241;43m.\u001B[39;49m\u001B[43mgradient_kwargs\u001B[49m\u001B[43m,\u001B[49m\n\u001B[1;32m    873\u001B[0m \u001B[43m    \u001B[49m\u001B[43moverride_shots\u001B[49m\u001B[38;5;241;43m=\u001B[39;49m\u001B[43moverride_shots\u001B[49m\u001B[43m,\u001B[49m\n\u001B[1;32m    874\u001B[0m \u001B[43m    \u001B[49m\u001B[38;5;241;43m*\u001B[39;49m\u001B[38;5;241;43m*\u001B[39;49m\u001B[38;5;28;43mself\u001B[39;49m\u001B[38;5;241;43m.\u001B[39;49m\u001B[43mexecute_kwargs\u001B[49m\u001B[43m,\u001B[49m\n\u001B[1;32m    875\u001B[0m \u001B[43m\u001B[49m\u001B[43m)\u001B[49m\n\u001B[1;32m    877\u001B[0m res \u001B[38;5;241m=\u001B[39m res[\u001B[38;5;241m0\u001B[39m]\n\u001B[1;32m    879\u001B[0m \u001B[38;5;28;01mif\u001B[39;00m old_interface \u001B[38;5;241m==\u001B[39m \u001B[38;5;124m\"\u001B[39m\u001B[38;5;124mauto\u001B[39m\u001B[38;5;124m\"\u001B[39m:\n",
      "File \u001B[0;32m~/anaconda3/lib/python3.10/site-packages/pennylane/interfaces/execution.py:407\u001B[0m, in \u001B[0;36mexecute\u001B[0;34m(tapes, device, gradient_fn, interface, grad_on_execution, gradient_kwargs, cache, cachesize, max_diff, override_shots, expand_fn, max_expansion, device_batch_transform)\u001B[0m\n\u001B[1;32m    403\u001B[0m     \u001B[38;5;28;01mreturn\u001B[39;00m batch_fn(res)\n\u001B[1;32m    405\u001B[0m \u001B[38;5;28;01mif\u001B[39;00m gradient_fn \u001B[38;5;241m==\u001B[39m \u001B[38;5;124m\"\u001B[39m\u001B[38;5;124mbackprop\u001B[39m\u001B[38;5;124m\"\u001B[39m \u001B[38;5;129;01mor\u001B[39;00m interface \u001B[38;5;129;01mis\u001B[39;00m \u001B[38;5;28;01mNone\u001B[39;00m:\n\u001B[1;32m    406\u001B[0m     \u001B[38;5;28;01mreturn\u001B[39;00m batch_fn(\n\u001B[0;32m--> 407\u001B[0m         \u001B[43mqml\u001B[49m\u001B[38;5;241;43m.\u001B[39;49m\u001B[43minterfaces\u001B[49m\u001B[38;5;241;43m.\u001B[39;49m\u001B[43mcache_execute\u001B[49m\u001B[43m(\u001B[49m\n\u001B[1;32m    408\u001B[0m \u001B[43m            \u001B[49m\u001B[43mbatch_execute\u001B[49m\u001B[43m,\u001B[49m\u001B[43m \u001B[49m\u001B[43mcache\u001B[49m\u001B[43m,\u001B[49m\u001B[43m \u001B[49m\u001B[43mreturn_tuple\u001B[49m\u001B[38;5;241;43m=\u001B[39;49m\u001B[38;5;28;43;01mFalse\u001B[39;49;00m\u001B[43m,\u001B[49m\u001B[43m \u001B[49m\u001B[43mexpand_fn\u001B[49m\u001B[38;5;241;43m=\u001B[39;49m\u001B[43mexpand_fn\u001B[49m\n\u001B[1;32m    409\u001B[0m \u001B[43m        \u001B[49m\u001B[43m)\u001B[49m\u001B[43m(\u001B[49m\u001B[43mtapes\u001B[49m\u001B[43m)\u001B[49m\n\u001B[1;32m    410\u001B[0m     )\n\u001B[1;32m    412\u001B[0m \u001B[38;5;66;03m# the default execution function is batch_execute\u001B[39;00m\n\u001B[1;32m    413\u001B[0m execute_fn \u001B[38;5;241m=\u001B[39m qml\u001B[38;5;241m.\u001B[39minterfaces\u001B[38;5;241m.\u001B[39mcache_execute(batch_execute, cache, expand_fn\u001B[38;5;241m=\u001B[39mexpand_fn)\n",
      "File \u001B[0;32m~/anaconda3/lib/python3.10/site-packages/pennylane/interfaces/execution.py:149\u001B[0m, in \u001B[0;36mcache_execute.<locals>.wrapper\u001B[0;34m(tapes, **kwargs)\u001B[0m\n\u001B[1;32m    146\u001B[0m repeated \u001B[38;5;241m=\u001B[39m {}\n\u001B[1;32m    148\u001B[0m \u001B[38;5;28;01mfor\u001B[39;00m i, tape \u001B[38;5;129;01min\u001B[39;00m \u001B[38;5;28menumerate\u001B[39m(tapes):\n\u001B[0;32m--> 149\u001B[0m     h \u001B[38;5;241m=\u001B[39m \u001B[43mtape\u001B[49m\u001B[38;5;241;43m.\u001B[39;49m\u001B[43mhash\u001B[49m\n\u001B[1;32m    151\u001B[0m     \u001B[38;5;28;01mif\u001B[39;00m h \u001B[38;5;129;01min\u001B[39;00m hashes\u001B[38;5;241m.\u001B[39mvalues():\n\u001B[1;32m    152\u001B[0m         \u001B[38;5;66;03m# Tape already exists within ``tapes``. Determine the\u001B[39;00m\n\u001B[1;32m    153\u001B[0m         \u001B[38;5;66;03m# index of the first occurrence of the tape, store this,\u001B[39;00m\n\u001B[1;32m    154\u001B[0m         \u001B[38;5;66;03m# and continue to the next iteration.\u001B[39;00m\n\u001B[1;32m    155\u001B[0m         idx \u001B[38;5;241m=\u001B[39m \u001B[38;5;28mlist\u001B[39m(hashes\u001B[38;5;241m.\u001B[39mkeys())[\u001B[38;5;28mlist\u001B[39m(hashes\u001B[38;5;241m.\u001B[39mvalues())\u001B[38;5;241m.\u001B[39mindex(h)]\n",
      "File \u001B[0;32m~/anaconda3/lib/python3.10/site-packages/pennylane/tape/qscript.py:206\u001B[0m, in \u001B[0;36mQuantumScript.hash\u001B[0;34m(self)\u001B[0m\n\u001B[1;32m    204\u001B[0m \u001B[38;5;124;03m\"\"\"int: returns an integer hash uniquely representing the quantum script\"\"\"\u001B[39;00m\n\u001B[1;32m    205\u001B[0m fingerprint \u001B[38;5;241m=\u001B[39m []\n\u001B[0;32m--> 206\u001B[0m \u001B[43mfingerprint\u001B[49m\u001B[38;5;241;43m.\u001B[39;49m\u001B[43mextend\u001B[49m\u001B[43m(\u001B[49m\u001B[43mop\u001B[49m\u001B[38;5;241;43m.\u001B[39;49m\u001B[43mhash\u001B[49m\u001B[43m \u001B[49m\u001B[38;5;28;43;01mfor\u001B[39;49;00m\u001B[43m \u001B[49m\u001B[43mop\u001B[49m\u001B[43m \u001B[49m\u001B[38;5;129;43;01min\u001B[39;49;00m\u001B[43m \u001B[49m\u001B[38;5;28;43mself\u001B[39;49m\u001B[38;5;241;43m.\u001B[39;49m\u001B[43moperations\u001B[49m\u001B[43m)\u001B[49m\n\u001B[1;32m    207\u001B[0m fingerprint\u001B[38;5;241m.\u001B[39mextend(m\u001B[38;5;241m.\u001B[39mhash \u001B[38;5;28;01mfor\u001B[39;00m m \u001B[38;5;129;01min\u001B[39;00m \u001B[38;5;28mself\u001B[39m\u001B[38;5;241m.\u001B[39mmeasurements)\n\u001B[1;32m    208\u001B[0m fingerprint\u001B[38;5;241m.\u001B[39mextend(\u001B[38;5;28mself\u001B[39m\u001B[38;5;241m.\u001B[39mtrainable_params)\n",
      "File \u001B[0;32m~/anaconda3/lib/python3.10/site-packages/pennylane/tape/qscript.py:206\u001B[0m, in \u001B[0;36m<genexpr>\u001B[0;34m(.0)\u001B[0m\n\u001B[1;32m    204\u001B[0m \u001B[38;5;124;03m\"\"\"int: returns an integer hash uniquely representing the quantum script\"\"\"\u001B[39;00m\n\u001B[1;32m    205\u001B[0m fingerprint \u001B[38;5;241m=\u001B[39m []\n\u001B[0;32m--> 206\u001B[0m fingerprint\u001B[38;5;241m.\u001B[39mextend(\u001B[43mop\u001B[49m\u001B[38;5;241;43m.\u001B[39;49m\u001B[43mhash\u001B[49m \u001B[38;5;28;01mfor\u001B[39;00m op \u001B[38;5;129;01min\u001B[39;00m \u001B[38;5;28mself\u001B[39m\u001B[38;5;241m.\u001B[39moperations)\n\u001B[1;32m    207\u001B[0m fingerprint\u001B[38;5;241m.\u001B[39mextend(m\u001B[38;5;241m.\u001B[39mhash \u001B[38;5;28;01mfor\u001B[39;00m m \u001B[38;5;129;01min\u001B[39;00m \u001B[38;5;28mself\u001B[39m\u001B[38;5;241m.\u001B[39mmeasurements)\n\u001B[1;32m    208\u001B[0m fingerprint\u001B[38;5;241m.\u001B[39mextend(\u001B[38;5;28mself\u001B[39m\u001B[38;5;241m.\u001B[39mtrainable_params)\n",
      "File \u001B[0;32m~/anaconda3/lib/python3.10/site-packages/pennylane/operation.py:694\u001B[0m, in \u001B[0;36mOperator.hash\u001B[0;34m(self)\u001B[0m\n\u001B[1;32m    686\u001B[0m \u001B[38;5;129m@property\u001B[39m\n\u001B[1;32m    687\u001B[0m \u001B[38;5;28;01mdef\u001B[39;00m \u001B[38;5;21mhash\u001B[39m(\u001B[38;5;28mself\u001B[39m):\n\u001B[1;32m    688\u001B[0m     \u001B[38;5;124;03m\"\"\"int: Integer hash that uniquely represents the operator.\"\"\"\u001B[39;00m\n\u001B[1;32m    689\u001B[0m     \u001B[38;5;28;01mreturn\u001B[39;00m \u001B[38;5;28mhash\u001B[39m(\n\u001B[1;32m    690\u001B[0m         (\n\u001B[1;32m    691\u001B[0m             \u001B[38;5;28mstr\u001B[39m(\u001B[38;5;28mself\u001B[39m\u001B[38;5;241m.\u001B[39mname),\n\u001B[1;32m    692\u001B[0m             \u001B[38;5;28mtuple\u001B[39m(\u001B[38;5;28mself\u001B[39m\u001B[38;5;241m.\u001B[39mwires\u001B[38;5;241m.\u001B[39mtolist()),\n\u001B[1;32m    693\u001B[0m             \u001B[38;5;28mstr\u001B[39m(\u001B[38;5;28mself\u001B[39m\u001B[38;5;241m.\u001B[39mhyperparameters\u001B[38;5;241m.\u001B[39mvalues()),\n\u001B[0;32m--> 694\u001B[0m             \u001B[43m_process_data\u001B[49m\u001B[43m(\u001B[49m\u001B[38;5;28;43mself\u001B[39;49m\u001B[43m)\u001B[49m,\n\u001B[1;32m    695\u001B[0m         )\n\u001B[1;32m    696\u001B[0m     )\n",
      "File \u001B[0;32m~/anaconda3/lib/python3.10/site-packages/pennylane/operation.py:382\u001B[0m, in \u001B[0;36m_process_data\u001B[0;34m(op)\u001B[0m\n\u001B[1;32m    377\u001B[0m \u001B[38;5;28;01mdef\u001B[39;00m \u001B[38;5;21m_process_data\u001B[39m(op):\n\u001B[1;32m    378\u001B[0m     \u001B[38;5;66;03m# Use qml.math.real to take the real part. We may get complex inputs for\u001B[39;00m\n\u001B[1;32m    379\u001B[0m     \u001B[38;5;66;03m# example when differentiating holomorphic functions with JAX: a complex\u001B[39;00m\n\u001B[1;32m    380\u001B[0m     \u001B[38;5;66;03m# valued QNode (one that returns qml.state) requires complex typed inputs.\u001B[39;00m\n\u001B[1;32m    381\u001B[0m     \u001B[38;5;28;01mif\u001B[39;00m op\u001B[38;5;241m.\u001B[39mname \u001B[38;5;129;01min\u001B[39;00m (\u001B[38;5;124m\"\u001B[39m\u001B[38;5;124mRX\u001B[39m\u001B[38;5;124m\"\u001B[39m, \u001B[38;5;124m\"\u001B[39m\u001B[38;5;124mRY\u001B[39m\u001B[38;5;124m\"\u001B[39m, \u001B[38;5;124m\"\u001B[39m\u001B[38;5;124mRZ\u001B[39m\u001B[38;5;124m\"\u001B[39m, \u001B[38;5;124m\"\u001B[39m\u001B[38;5;124mPhaseShift\u001B[39m\u001B[38;5;124m\"\u001B[39m, \u001B[38;5;124m\"\u001B[39m\u001B[38;5;124mRot\u001B[39m\u001B[38;5;124m\"\u001B[39m):\n\u001B[0;32m--> 382\u001B[0m         \u001B[38;5;28;01mreturn\u001B[39;00m \u001B[38;5;28;43mstr\u001B[39;49m\u001B[43m(\u001B[49m\u001B[43m[\u001B[49m\u001B[43mqml\u001B[49m\u001B[38;5;241;43m.\u001B[39;49m\u001B[43mmath\u001B[49m\u001B[38;5;241;43m.\u001B[39;49m\u001B[43mround\u001B[49m\u001B[43m(\u001B[49m\u001B[43mqml\u001B[49m\u001B[38;5;241;43m.\u001B[39;49m\u001B[43mmath\u001B[49m\u001B[38;5;241;43m.\u001B[39;49m\u001B[43mreal\u001B[49m\u001B[43m(\u001B[49m\u001B[43md\u001B[49m\u001B[43m)\u001B[49m\u001B[43m \u001B[49m\u001B[38;5;241;43m%\u001B[39;49m\u001B[43m \u001B[49m\u001B[43m(\u001B[49m\u001B[38;5;241;43m2\u001B[39;49m\u001B[43m \u001B[49m\u001B[38;5;241;43m*\u001B[39;49m\u001B[43m \u001B[49m\u001B[43mnp\u001B[49m\u001B[38;5;241;43m.\u001B[39;49m\u001B[43mpi\u001B[49m\u001B[43m)\u001B[49m\u001B[43m,\u001B[49m\u001B[43m \u001B[49m\u001B[38;5;241;43m10\u001B[39;49m\u001B[43m)\u001B[49m\u001B[43m \u001B[49m\u001B[38;5;28;43;01mfor\u001B[39;49;00m\u001B[43m \u001B[49m\u001B[43md\u001B[49m\u001B[43m \u001B[49m\u001B[38;5;129;43;01min\u001B[39;49;00m\u001B[43m \u001B[49m\u001B[43mop\u001B[49m\u001B[38;5;241;43m.\u001B[39;49m\u001B[43mdata\u001B[49m\u001B[43m]\u001B[49m\u001B[43m)\u001B[49m\n\u001B[1;32m    384\u001B[0m     \u001B[38;5;28;01mif\u001B[39;00m op\u001B[38;5;241m.\u001B[39mname \u001B[38;5;129;01min\u001B[39;00m (\u001B[38;5;124m\"\u001B[39m\u001B[38;5;124mCRX\u001B[39m\u001B[38;5;124m\"\u001B[39m, \u001B[38;5;124m\"\u001B[39m\u001B[38;5;124mCRY\u001B[39m\u001B[38;5;124m\"\u001B[39m, \u001B[38;5;124m\"\u001B[39m\u001B[38;5;124mCRZ\u001B[39m\u001B[38;5;124m\"\u001B[39m, \u001B[38;5;124m\"\u001B[39m\u001B[38;5;124mCRot\u001B[39m\u001B[38;5;124m\"\u001B[39m):\n\u001B[1;32m    385\u001B[0m         \u001B[38;5;28;01mreturn\u001B[39;00m \u001B[38;5;28mstr\u001B[39m([qml\u001B[38;5;241m.\u001B[39mmath\u001B[38;5;241m.\u001B[39mround(qml\u001B[38;5;241m.\u001B[39mmath\u001B[38;5;241m.\u001B[39mreal(d) \u001B[38;5;241m%\u001B[39m (\u001B[38;5;241m4\u001B[39m \u001B[38;5;241m*\u001B[39m np\u001B[38;5;241m.\u001B[39mpi), \u001B[38;5;241m10\u001B[39m) \u001B[38;5;28;01mfor\u001B[39;00m d \u001B[38;5;129;01min\u001B[39;00m op\u001B[38;5;241m.\u001B[39mdata])\n",
      "\u001B[0;31mKeyboardInterrupt\u001B[0m: "
     ]
    }
   ],
   "source": [
    "agent.train(gamma=GAMMA, max_episodes=MAX_EPISODES,\n",
    "              batch_size=BATCH_SIZE)"
   ],
   "metadata": {
    "collapsed": false,
    "ExecuteTime": {
     "end_time": "2023-06-06T20:54:24.266126Z",
     "start_time": "2023-06-06T20:42:19.828514Z"
    }
   }
  },
  {
   "cell_type": "markdown",
   "source": [
    "Se calcula el tiempo de ejecución, lo que ha tardado el agente en entrenar"
   ],
   "metadata": {
    "collapsed": false
   }
  },
  {
   "cell_type": "code",
   "execution_count": null,
   "outputs": [],
   "source": [
    "tiempo_ejecucion = round(timeit.default_timer() - tiempo_inicio, 0)\n",
    "print(\"Tiempo ejecución entrenamiento: \" + str(int(tiempo_ejecucion/3600))\n",
    "      + \" horas, \" + str(int((tiempo_ejecucion % 3600)/60)) + \" minutos y \"\n",
    "      + str(int((tiempo_ejecucion % 3600)%60)) + \" segundos\")\n"
   ],
   "metadata": {
    "collapsed": false
   }
  },
  {
   "cell_type": "markdown",
   "source": [
    "Se calculan las emisiones que han podido implicar el proceso"
   ],
   "metadata": {
    "collapsed": false
   }
  },
  {
   "cell_type": "code",
   "execution_count": null,
   "outputs": [],
   "source": [
    "emisiones = tracker.stop()\n",
    "print(\"Emisiones de CO2 (Kg)\" + str(emisiones))"
   ],
   "metadata": {
    "collapsed": false
   }
  },
  {
   "cell_type": "markdown",
   "source": [
    "Se procede a graficar los resultados"
   ],
   "metadata": {
    "collapsed": false
   }
  },
  {
   "cell_type": "code",
   "execution_count": null,
   "outputs": [],
   "source": [
    "agent.plot_rewards()\n",
    "agent.plot_loss()"
   ],
   "metadata": {
    "collapsed": false
   }
  },
  {
   "cell_type": "markdown",
   "source": [],
   "metadata": {
    "collapsed": false
   }
  }
 ],
 "metadata": {
  "kernelspec": {
   "display_name": "Python 3",
   "language": "python",
   "name": "python3"
  },
  "language_info": {
   "codemirror_mode": {
    "name": "ipython",
    "version": 2
   },
   "file_extension": ".py",
   "mimetype": "text/x-python",
   "name": "python",
   "nbconvert_exporter": "python",
   "pygments_lexer": "ipython2",
   "version": "2.7.6"
  }
 },
 "nbformat": 4,
 "nbformat_minor": 0
}
