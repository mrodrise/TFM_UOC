{
 "cells": [
  {
   "cell_type": "markdown",
   "source": [
    "<div style=\"width: 100%; clear: both;\">\n",
    "<div style=\"float: left; width: 50%;\">\n",
    "<img src=\"http://www.uoc.edu/portal/_resources/common/imatges/marca_UOC/UOC_Masterbrand.jpg\", align=\"left\">\n",
    "</div>\n",
    "<div style=\"float: right; width: 50%;\">\n",
    "<p style=\"margin: 0; padding-top: 22px; text-align:right;\">Trabajo final de master</p>\n",
    "<p style=\"margin: 0; text-align:right;\">Máster universitario en Ciencia de datos (<i>Data science</i>)</p>\n",
    "<p style=\"margin: 0; text-align:right; padding-button: 100px;\">Estudios de Informática, Multimedia y Telecomunicación</p>\n",
    "</div>\n",
    "</div>\n",
    "<div style=\"width:100%;\">&nbsp;</div>\n",
    "\n",
    "\n",
    "# Estado de la computación cuántica en el aprendizaje por refuerzo y cómo aplicarla en DQN y Reinforce con Línea Base\n",
    "\n",
    "## QVC aplicado a DQN en entorno CartPole\n",
    "\n"
   ],
   "metadata": {
    "collapsed": false
   }
  },
  {
   "cell_type": "markdown",
   "source": [
    "Se importan las librerías necesarias para ejecutar el Jupyter Notebook"
   ],
   "metadata": {
    "collapsed": false
   }
  },
  {
   "cell_type": "code",
   "execution_count": 1,
   "outputs": [
    {
     "name": "stdout",
     "output_type": "stream",
     "text": [
      "\u001B[33mWARNING: Skipping qiskit-ibm-provider as it is not installed.\u001B[0m\u001B[33m\r\n",
      "\u001B[0m"
     ]
    }
   ],
   "source": [
    "!pip uninstall qiskit-ibm-provider"
   ],
   "metadata": {
    "collapsed": false,
    "ExecuteTime": {
     "end_time": "2023-06-28T21:37:04.878434Z",
     "start_time": "2023-06-28T21:37:01.405955Z"
    }
   }
  },
  {
   "cell_type": "code",
   "execution_count": 2,
   "outputs": [],
   "source": [
    "# Importamos timeit para tomar mediciones de tiempo de ejecución\n",
    "import timeit\n",
    "\n",
    "# Importamos codecarbon para tomar medidas de huella de carbono\n",
    "from codecarbon import EmissionsTracker"
   ],
   "metadata": {
    "collapsed": false,
    "ExecuteTime": {
     "end_time": "2023-06-28T21:37:08.631400Z",
     "start_time": "2023-06-28T21:37:04.896110Z"
    }
   }
  },
  {
   "cell_type": "code",
   "execution_count": 3,
   "outputs": [],
   "source": [
    "import pennylane as qml\n",
    "import torch as torch\n",
    "import torch.nn as nn\n",
    "from torch.nn.parameter import Parameter"
   ],
   "metadata": {
    "collapsed": false,
    "ExecuteTime": {
     "end_time": "2023-06-28T21:37:14.208394Z",
     "start_time": "2023-06-28T21:37:08.644484Z"
    }
   }
  },
  {
   "cell_type": "code",
   "execution_count": 4,
   "outputs": [],
   "source": [
    "import sys\n",
    "# Para importar nuestras librerías, que están en otro directorio\n",
    "sys.path.append(\"../librerias\")\n",
    "\n",
    "# Experience Replay Buffer para DQN\n",
    "import experienceReplayBuffer as erb\n",
    "\n",
    "import Model\n",
    "\n",
    "# Agentes\n",
    "import Agent"
   ],
   "metadata": {
    "collapsed": false,
    "ExecuteTime": {
     "end_time": "2023-06-28T21:37:14.369365Z",
     "start_time": "2023-06-28T21:37:14.218630Z"
    }
   }
  },
  {
   "cell_type": "code",
   "execution_count": 5,
   "outputs": [],
   "source": [
    "# Se importa la librería gymnasium para utilizar los entornos CartPole y Acrobot\n",
    "import gym as gym"
   ],
   "metadata": {
    "collapsed": false,
    "ExecuteTime": {
     "end_time": "2023-06-28T21:37:14.370562Z",
     "start_time": "2023-06-28T21:37:14.360062Z"
    }
   }
  },
  {
   "cell_type": "code",
   "execution_count": 6,
   "outputs": [],
   "source": [
    "def encode(n_qubits, inputs):\n",
    "    for wire in range(n_qubits):\n",
    "        qml.RX(inputs[wire], wires=wire)\n",
    "\n",
    "def layer(n_qubits, y_weight, z_weight):\n",
    "    for wire, y_weight in enumerate(y_weight):\n",
    "        qml.RY(y_weight, wires=wire)\n",
    "    for wire, z_weight in enumerate(z_weight):\n",
    "        qml.RZ(z_weight, wires=wire)\n",
    "    for wire in range(n_qubits):\n",
    "        qml.CZ(wires=[wire, (wire + 1) % n_qubits])\n",
    "\n",
    "\n",
    "def measure_cartpole(n_qubits):\n",
    "    return [\n",
    "        qml.expval(qml.PauliZ(0) @ qml.PauliZ(1)),\n",
    "        qml.expval(qml.PauliZ(2) @ qml.PauliZ(3))\n",
    "    ]\n",
    "\n",
    "\n",
    "def get_model(n_qubits, n_layers, environment, quantum_device):\n",
    "    dev = qml.device(quantum_device, wires=n_qubits, backend=\"ibm_nairobi\", ibmqx_token=\"37e367fa79da3b20decc60f1160d6c8a4ecda602b6ab86a3d2f01a293b5e177498f692b0845cfd85852067fc3e06e391901bb976d318b7eb1e00e1a4e3a03ba0\")\n",
    "    shapes = {\n",
    "        \"y_weights\": (n_layers, n_qubits),\n",
    "        \"z_weights\": (n_layers, n_qubits)\n",
    "    }\n",
    "\n",
    "    @qml.qnode(dev, interface='torch')\n",
    "    def circuit_cartpole(inputs, y_weights, z_weights):\n",
    "        for layer_idx in range(n_layers):\n",
    "#            if (layer_idx == 0):\n",
    "            encode(n_qubits, inputs)\n",
    "            layer(n_qubits, y_weights[layer_idx], z_weights[layer_idx])\n",
    "        return measure_cartpole(n_qubits)\n",
    "\n",
    "    model = qml.qnn.TorchLayer(circuit_cartpole, shapes)\n",
    "\n",
    "    return model\n",
    "\n",
    "class QuantumNet(nn.Module):\n",
    "    def __init__(self, n_layers, n_qubits, n_actions, environment, quantum_device):\n",
    "        super(QuantumNet, self).__init__()\n",
    "        self.n_qubits = n_qubits\n",
    "        self.n_actions = n_actions\n",
    "        self.environment = environment\n",
    "#        if self.environment == 0:  # Cartpole\n",
    "        self.w_input = Parameter(torch.Tensor(self.n_qubits))\n",
    "        nn.init.normal_(self.w_input, mean=0.)\n",
    "        self.w_output = Parameter(torch.Tensor(self.n_actions))\n",
    "        nn.init.normal_(self.w_output, mean=90.)\n",
    "        self.q_layers = get_model(n_qubits=self.n_qubits,\n",
    "                                  n_layers=n_layers,\n",
    "                                  environment=self.environment, quantum_device=quantum_device)\n",
    "\n",
    "    def forward(self, inputs):\n",
    "        inputs = torch.atan(inputs)\n",
    "\n",
    "        inputs = inputs * self.w_input\n",
    "\n",
    "        outputs = self.q_layers(inputs)\n",
    "        outputs = (1 + outputs) / 2\n",
    "\n",
    "\n",
    "#        if self.environment == 0:  # Cartpole\n",
    "        outputs = outputs * self.w_output\n",
    "        return outputs"
   ],
   "metadata": {
    "collapsed": false,
    "ExecuteTime": {
     "end_time": "2023-06-28T21:37:14.390262Z",
     "start_time": "2023-06-28T21:37:14.385977Z"
    }
   }
  },
  {
   "cell_type": "markdown",
   "source": [
    "Se crea el entorno, en este caso CartPole"
   ],
   "metadata": {
    "collapsed": false,
    "ExecuteTime": {
     "end_time": "2023-06-25T17:16:34.854083Z",
     "start_time": "2023-06-25T17:16:33.484035Z"
    }
   },
   "outputs": [],
   "execution_count": 16
  },
  {
   "cell_type": "code",
   "execution_count": 7,
   "outputs": [
    {
     "name": "stderr",
     "output_type": "stream",
     "text": [
      "/Users/marcoemiliorodriguezserrano/anaconda3/lib/python3.10/site-packages/gym/envs/registration.py:592: UserWarning: \u001B[33mWARN: The environment CartPole-v0 is out of date. You should consider upgrading to version `v1`.\u001B[0m\n",
      "  logger.warn(\n",
      "/Users/marcoemiliorodriguezserrano/anaconda3/lib/python3.10/site-packages/gym/core.py:329: DeprecationWarning: \u001B[33mWARN: Initializing wrapper in old step API which returns one bool instead of two. It is recommended to set `new_step_api=True` to use new step API. This will be the default behaviour in future.\u001B[0m\n",
      "  deprecation(\n",
      "/Users/marcoemiliorodriguezserrano/anaconda3/lib/python3.10/site-packages/gym/wrappers/step_api_compatibility.py:39: DeprecationWarning: \u001B[33mWARN: Initializing environment in old step API which returns one bool instead of two. It is recommended to set `new_step_api=True` to use new step API. This will be the default behaviour in future.\u001B[0m\n",
      "  deprecation(\n"
     ]
    }
   ],
   "source": [
    "env = gym.envs.make(\"CartPole-v0\")"
   ],
   "metadata": {
    "collapsed": false,
    "ExecuteTime": {
     "end_time": "2023-06-28T21:37:14.456446Z",
     "start_time": "2023-06-28T21:37:14.394333Z"
    }
   }
  },
  {
   "cell_type": "markdown",
   "source": [
    "Se definen los hiperparámetros que se utilizarán en el modelo de aprendizaje por refuerzo"
   ],
   "metadata": {
    "collapsed": false,
    "ExecuteTime": {
     "end_time": "2023-06-25T17:16:34.887671Z",
     "start_time": "2023-06-25T17:16:33.505790Z"
    }
   },
   "outputs": [],
   "execution_count": 17
  },
  {
   "cell_type": "code",
   "execution_count": 8,
   "outputs": [],
   "source": [
    "# Hiperparámetros del modelo de aprendizaje por refuerzo\n",
    "lr = 0.01            #Velocidad de aprendizaje\n",
    "lr_input=0.01\n",
    "lr_output=0.01\n",
    "MEMORY_SIZE = 32  #Máxima capacidad del buffer\n",
    "MAX_EPISODES = 2   #Número máximo de episodios (el agente debe aprender antes de llegar a este valor)\n",
    "EPSILON = 1           #Valor inicial de epsilon\n",
    "EPSILON_DECAY = .99   #Decaimiento de epsilon\n",
    "GAMMA = 0.99          #Valor gamma de la ecuación de Bellman\n",
    "BATCH_SIZE = 8       #Conjunto a coger del buffer para la red neuronal\n",
    "BURN_IN = 16        #Número de episodios iniciales usados para rellenar el buffer antes de entrenar\n",
    "DNN_UPD = 1          #Frecuencia de actualización de la red neuronal\n",
    "DNN_SYNC = 1     #Frecuencia de sincronización de pesos entre la red neuronal y la red objetivo"
   ],
   "metadata": {
    "collapsed": false,
    "ExecuteTime": {
     "end_time": "2023-06-28T21:37:14.457171Z",
     "start_time": "2023-06-28T21:37:14.422541Z"
    }
   }
  },
  {
   "cell_type": "code",
   "execution_count": 8,
   "outputs": [],
   "source": [],
   "metadata": {
    "collapsed": false,
    "ExecuteTime": {
     "end_time": "2023-06-28T21:37:14.457780Z",
     "start_time": "2023-06-28T21:37:14.436326Z"
    }
   }
  },
  {
   "cell_type": "markdown",
   "source": [
    "Se definen los hiperparámetros del circuito QVC"
   ],
   "metadata": {
    "collapsed": false,
    "ExecuteTime": {
     "end_time": "2023-06-25T17:16:34.925132Z",
     "start_time": "2023-06-25T17:16:33.533402Z"
    }
   },
   "outputs": [],
   "execution_count": 18
  },
  {
   "cell_type": "code",
   "execution_count": 9,
   "outputs": [],
   "source": [
    "# Hiperparámetros del QVC\n",
    "n_layers = 5    # número de capas del Ansatz\n",
    "n_qubits = 4    # qubits definidos, en este caso son 4 al disponer de 4 variables de observación\n",
    "n_actions = 2   # número de acciones, se definen 2 para Cartpole\n",
    "environment = 0 # entorno Cartpole\n",
    "quantum_device = \"qiskit.ibmq\" # dispositivo cuántico, se define un simulador cuántico"
   ],
   "metadata": {
    "collapsed": false,
    "ExecuteTime": {
     "end_time": "2023-06-28T21:37:14.481006Z",
     "start_time": "2023-06-28T21:37:14.468531Z"
    }
   }
  },
  {
   "cell_type": "markdown",
   "source": [
    "Se crea el buffer de repetición de experiencias"
   ],
   "metadata": {
    "collapsed": false,
    "ExecuteTime": {
     "end_time": "2023-06-25T17:16:34.946266Z",
     "start_time": "2023-06-25T17:16:33.557910Z"
    }
   },
   "outputs": [],
   "execution_count": 19
  },
  {
   "cell_type": "code",
   "execution_count": 10,
   "outputs": [],
   "source": [
    "buffer = erb.experienceReplayBuffer(memory_size=MEMORY_SIZE, burn_in=BURN_IN)   # buffer experience replay"
   ],
   "metadata": {
    "collapsed": false,
    "ExecuteTime": {
     "end_time": "2023-06-28T21:37:14.583717Z",
     "start_time": "2023-06-28T21:37:14.489255Z"
    }
   }
  },
  {
   "cell_type": "markdown",
   "source": [
    "Se define el circuito cuántico que sustituye a la red neuronal"
   ],
   "metadata": {
    "collapsed": false,
    "ExecuteTime": {
     "end_time": "2023-06-25T17:16:35.852576Z",
     "start_time": "2023-06-25T17:16:33.567018Z"
    }
   },
   "outputs": [
    {
     "ename": "ContextualVersionConflict",
     "evalue": "(qiskit-terra 0.24.1 (/Users/marcoemiliorodriguezserrano/anaconda3/lib/python3.10/site-packages), Requirement.parse('qiskit-terra==0.23.3'), {'qiskit'})",
     "output_type": "error",
     "traceback": [
      "\u001B[0;31m---------------------------------------------------------------------------\u001B[0m",
      "\u001B[0;31mContextualVersionConflict\u001B[0m                 Traceback (most recent call last)",
      "Cell \u001B[0;32mIn[20], line 1\u001B[0m\n\u001B[0;32m----> 1\u001B[0m net \u001B[38;5;241m=\u001B[39m \u001B[43mQuantumNet\u001B[49m\u001B[43m(\u001B[49m\u001B[43mn_layers\u001B[49m\u001B[43m,\u001B[49m\u001B[43m \u001B[49m\u001B[43mn_qubits\u001B[49m\u001B[43m,\u001B[49m\u001B[43m \u001B[49m\u001B[43mn_actions\u001B[49m\u001B[43m,\u001B[49m\u001B[43m \u001B[49m\u001B[43menvironment\u001B[49m\u001B[43m,\u001B[49m\u001B[43m \u001B[49m\u001B[43mquantum_device\u001B[49m\u001B[43m)\u001B[49m\n",
      "Cell \u001B[0;32mIn[15], line 51\u001B[0m, in \u001B[0;36mQuantumNet.__init__\u001B[0;34m(self, n_layers, n_qubits, n_actions, environment, quantum_device)\u001B[0m\n\u001B[1;32m     49\u001B[0m \u001B[38;5;28mself\u001B[39m\u001B[38;5;241m.\u001B[39mw_output \u001B[38;5;241m=\u001B[39m Parameter(torch\u001B[38;5;241m.\u001B[39mTensor(\u001B[38;5;28mself\u001B[39m\u001B[38;5;241m.\u001B[39mn_actions))\n\u001B[1;32m     50\u001B[0m nn\u001B[38;5;241m.\u001B[39minit\u001B[38;5;241m.\u001B[39mnormal_(\u001B[38;5;28mself\u001B[39m\u001B[38;5;241m.\u001B[39mw_output, mean\u001B[38;5;241m=\u001B[39m\u001B[38;5;241m90.\u001B[39m)\n\u001B[0;32m---> 51\u001B[0m \u001B[38;5;28mself\u001B[39m\u001B[38;5;241m.\u001B[39mq_layers \u001B[38;5;241m=\u001B[39m \u001B[43mget_model\u001B[49m\u001B[43m(\u001B[49m\u001B[43mn_qubits\u001B[49m\u001B[38;5;241;43m=\u001B[39;49m\u001B[38;5;28;43mself\u001B[39;49m\u001B[38;5;241;43m.\u001B[39;49m\u001B[43mn_qubits\u001B[49m\u001B[43m,\u001B[49m\n\u001B[1;32m     52\u001B[0m \u001B[43m                          \u001B[49m\u001B[43mn_layers\u001B[49m\u001B[38;5;241;43m=\u001B[39;49m\u001B[43mn_layers\u001B[49m\u001B[43m,\u001B[49m\n\u001B[1;32m     53\u001B[0m \u001B[43m                          \u001B[49m\u001B[43menvironment\u001B[49m\u001B[38;5;241;43m=\u001B[39;49m\u001B[38;5;28;43mself\u001B[39;49m\u001B[38;5;241;43m.\u001B[39;49m\u001B[43menvironment\u001B[49m\u001B[43m,\u001B[49m\u001B[43m \u001B[49m\u001B[43mquantum_device\u001B[49m\u001B[38;5;241;43m=\u001B[39;49m\u001B[43mquantum_device\u001B[49m\u001B[43m)\u001B[49m\n",
      "Cell \u001B[0;32mIn[15], line 22\u001B[0m, in \u001B[0;36mget_model\u001B[0;34m(n_qubits, n_layers, environment, quantum_device)\u001B[0m\n\u001B[1;32m     21\u001B[0m \u001B[38;5;28;01mdef\u001B[39;00m \u001B[38;5;21mget_model\u001B[39m(n_qubits, n_layers, environment, quantum_device):\n\u001B[0;32m---> 22\u001B[0m     dev \u001B[38;5;241m=\u001B[39m \u001B[43mqml\u001B[49m\u001B[38;5;241;43m.\u001B[39;49m\u001B[43mdevice\u001B[49m\u001B[43m(\u001B[49m\u001B[43mquantum_device\u001B[49m\u001B[43m,\u001B[49m\u001B[43m \u001B[49m\u001B[43mwires\u001B[49m\u001B[38;5;241;43m=\u001B[39;49m\u001B[43mn_qubits\u001B[49m\u001B[43m,\u001B[49m\u001B[43m \u001B[49m\u001B[43mbackend\u001B[49m\u001B[38;5;241;43m=\u001B[39;49m\u001B[38;5;124;43m\"\u001B[39;49m\u001B[38;5;124;43mibm_nairobi\u001B[39;49m\u001B[38;5;124;43m\"\u001B[39;49m\u001B[43m,\u001B[49m\u001B[43m \u001B[49m\u001B[43mibmqx_token\u001B[49m\u001B[38;5;241;43m=\u001B[39;49m\u001B[38;5;124;43m\"\u001B[39;49m\u001B[38;5;124;43m37e367fa79da3b20decc60f1160d6c8a4ecda602b6ab86a3d2f01a293b5e177498f692b0845cfd85852067fc3e06e391901bb976d318b7eb1e00e1a4e3a03ba0\u001B[39;49m\u001B[38;5;124;43m\"\u001B[39;49m\u001B[43m)\u001B[49m\n\u001B[1;32m     23\u001B[0m     shapes \u001B[38;5;241m=\u001B[39m {\n\u001B[1;32m     24\u001B[0m         \u001B[38;5;124m\"\u001B[39m\u001B[38;5;124my_weights\u001B[39m\u001B[38;5;124m\"\u001B[39m: (n_layers, n_qubits),\n\u001B[1;32m     25\u001B[0m         \u001B[38;5;124m\"\u001B[39m\u001B[38;5;124mz_weights\u001B[39m\u001B[38;5;124m\"\u001B[39m: (n_layers, n_qubits)\n\u001B[1;32m     26\u001B[0m     }\n\u001B[1;32m     28\u001B[0m     \u001B[38;5;129m@qml\u001B[39m\u001B[38;5;241m.\u001B[39mqnode(dev, interface\u001B[38;5;241m=\u001B[39m\u001B[38;5;124m'\u001B[39m\u001B[38;5;124mtorch\u001B[39m\u001B[38;5;124m'\u001B[39m)\n\u001B[1;32m     29\u001B[0m     \u001B[38;5;28;01mdef\u001B[39;00m \u001B[38;5;21mcircuit_cartpole\u001B[39m(inputs, y_weights, z_weights):\n",
      "File \u001B[0;32m~/anaconda3/lib/python3.10/site-packages/pennylane/__init__.py:317\u001B[0m, in \u001B[0;36mdevice\u001B[0;34m(name, *args, **kwargs)\u001B[0m\n\u001B[1;32m    314\u001B[0m options\u001B[38;5;241m.\u001B[39mupdate(kwargs)\n\u001B[1;32m    316\u001B[0m \u001B[38;5;66;03m# loads the device class\u001B[39;00m\n\u001B[0;32m--> 317\u001B[0m plugin_device_class \u001B[38;5;241m=\u001B[39m \u001B[43mplugin_devices\u001B[49m\u001B[43m[\u001B[49m\u001B[43mname\u001B[49m\u001B[43m]\u001B[49m\u001B[38;5;241;43m.\u001B[39;49m\u001B[43mload\u001B[49m\u001B[43m(\u001B[49m\u001B[43m)\u001B[49m\n\u001B[1;32m    319\u001B[0m \u001B[38;5;28;01mif\u001B[39;00m Version(version()) \u001B[38;5;129;01mnot\u001B[39;00m \u001B[38;5;129;01min\u001B[39;00m SimpleSpec(plugin_device_class\u001B[38;5;241m.\u001B[39mpennylane_requires):\n\u001B[1;32m    320\u001B[0m     \u001B[38;5;28;01mraise\u001B[39;00m DeviceError(\n\u001B[1;32m    321\u001B[0m         \u001B[38;5;124mf\u001B[39m\u001B[38;5;124m\"\u001B[39m\u001B[38;5;124mThe \u001B[39m\u001B[38;5;132;01m{\u001B[39;00mname\u001B[38;5;132;01m}\u001B[39;00m\u001B[38;5;124m plugin requires PennyLane versions \u001B[39m\u001B[38;5;132;01m{\u001B[39;00mplugin_device_class\u001B[38;5;241m.\u001B[39mpennylane_requires\u001B[38;5;132;01m}\u001B[39;00m\u001B[38;5;124m, \u001B[39m\u001B[38;5;124m\"\u001B[39m\n\u001B[1;32m    322\u001B[0m         \u001B[38;5;124mf\u001B[39m\u001B[38;5;124m\"\u001B[39m\u001B[38;5;124mhowever PennyLane version \u001B[39m\u001B[38;5;132;01m{\u001B[39;00m__version__\u001B[38;5;132;01m}\u001B[39;00m\u001B[38;5;124m is installed.\u001B[39m\u001B[38;5;124m\"\u001B[39m\n\u001B[1;32m    323\u001B[0m     )\n",
      "File \u001B[0;32m~/anaconda3/lib/python3.10/site-packages/pkg_resources/__init__.py:2470\u001B[0m, in \u001B[0;36mEntryPoint.load\u001B[0;34m(self, require, *args, **kwargs)\u001B[0m\n\u001B[1;32m   2463\u001B[0m     warnings\u001B[38;5;241m.\u001B[39mwarn(\n\u001B[1;32m   2464\u001B[0m         \u001B[38;5;124m\"\u001B[39m\u001B[38;5;124mParameters to load are deprecated.  Call .resolve and \u001B[39m\u001B[38;5;124m\"\u001B[39m\n\u001B[1;32m   2465\u001B[0m         \u001B[38;5;124m\"\u001B[39m\u001B[38;5;124m.require separately.\u001B[39m\u001B[38;5;124m\"\u001B[39m,\n\u001B[1;32m   2466\u001B[0m         PkgResourcesDeprecationWarning,\n\u001B[1;32m   2467\u001B[0m         stacklevel\u001B[38;5;241m=\u001B[39m\u001B[38;5;241m2\u001B[39m,\n\u001B[1;32m   2468\u001B[0m     )\n\u001B[1;32m   2469\u001B[0m \u001B[38;5;28;01mif\u001B[39;00m require:\n\u001B[0;32m-> 2470\u001B[0m     \u001B[38;5;28;43mself\u001B[39;49m\u001B[38;5;241;43m.\u001B[39;49m\u001B[43mrequire\u001B[49m\u001B[43m(\u001B[49m\u001B[38;5;241;43m*\u001B[39;49m\u001B[43margs\u001B[49m\u001B[43m,\u001B[49m\u001B[43m \u001B[49m\u001B[38;5;241;43m*\u001B[39;49m\u001B[38;5;241;43m*\u001B[39;49m\u001B[43mkwargs\u001B[49m\u001B[43m)\u001B[49m\n\u001B[1;32m   2471\u001B[0m \u001B[38;5;28;01mreturn\u001B[39;00m \u001B[38;5;28mself\u001B[39m\u001B[38;5;241m.\u001B[39mresolve()\n",
      "File \u001B[0;32m~/anaconda3/lib/python3.10/site-packages/pkg_resources/__init__.py:2493\u001B[0m, in \u001B[0;36mEntryPoint.require\u001B[0;34m(self, env, installer)\u001B[0m\n\u001B[1;32m   2487\u001B[0m \u001B[38;5;66;03m# Get the requirements for this entry point with all its extras and\u001B[39;00m\n\u001B[1;32m   2488\u001B[0m \u001B[38;5;66;03m# then resolve them. We have to pass `extras` along when resolving so\u001B[39;00m\n\u001B[1;32m   2489\u001B[0m \u001B[38;5;66;03m# that the working set knows what extras we want. Otherwise, for\u001B[39;00m\n\u001B[1;32m   2490\u001B[0m \u001B[38;5;66;03m# dist-info distributions, the working set will assume that the\u001B[39;00m\n\u001B[1;32m   2491\u001B[0m \u001B[38;5;66;03m# requirements for that extra are purely optional and skip over them.\u001B[39;00m\n\u001B[1;32m   2492\u001B[0m reqs \u001B[38;5;241m=\u001B[39m \u001B[38;5;28mself\u001B[39m\u001B[38;5;241m.\u001B[39mdist\u001B[38;5;241m.\u001B[39mrequires(\u001B[38;5;28mself\u001B[39m\u001B[38;5;241m.\u001B[39mextras)\n\u001B[0;32m-> 2493\u001B[0m items \u001B[38;5;241m=\u001B[39m \u001B[43mworking_set\u001B[49m\u001B[38;5;241;43m.\u001B[39;49m\u001B[43mresolve\u001B[49m\u001B[43m(\u001B[49m\u001B[43mreqs\u001B[49m\u001B[43m,\u001B[49m\u001B[43m \u001B[49m\u001B[43menv\u001B[49m\u001B[43m,\u001B[49m\u001B[43m \u001B[49m\u001B[43minstaller\u001B[49m\u001B[43m,\u001B[49m\u001B[43m \u001B[49m\u001B[43mextras\u001B[49m\u001B[38;5;241;43m=\u001B[39;49m\u001B[38;5;28;43mself\u001B[39;49m\u001B[38;5;241;43m.\u001B[39;49m\u001B[43mextras\u001B[49m\u001B[43m)\u001B[49m\n\u001B[1;32m   2494\u001B[0m \u001B[38;5;28mlist\u001B[39m(\u001B[38;5;28mmap\u001B[39m(working_set\u001B[38;5;241m.\u001B[39madd, items))\n",
      "File \u001B[0;32m~/anaconda3/lib/python3.10/site-packages/pkg_resources/__init__.py:800\u001B[0m, in \u001B[0;36mWorkingSet.resolve\u001B[0;34m(self, requirements, env, installer, replace_conflicting, extras)\u001B[0m\n\u001B[1;32m    797\u001B[0m \u001B[38;5;28;01mif\u001B[39;00m dist \u001B[38;5;129;01mnot\u001B[39;00m \u001B[38;5;129;01min\u001B[39;00m req:\n\u001B[1;32m    798\u001B[0m     \u001B[38;5;66;03m# Oops, the \"best\" so far conflicts with a dependency\u001B[39;00m\n\u001B[1;32m    799\u001B[0m     dependent_req \u001B[38;5;241m=\u001B[39m required_by[req]\n\u001B[0;32m--> 800\u001B[0m     \u001B[38;5;28;01mraise\u001B[39;00m VersionConflict(dist, req)\u001B[38;5;241m.\u001B[39mwith_context(dependent_req)\n\u001B[1;32m    802\u001B[0m \u001B[38;5;66;03m# push the new requirements onto the stack\u001B[39;00m\n\u001B[1;32m    803\u001B[0m new_requirements \u001B[38;5;241m=\u001B[39m dist\u001B[38;5;241m.\u001B[39mrequires(req\u001B[38;5;241m.\u001B[39mextras)[::\u001B[38;5;241m-\u001B[39m\u001B[38;5;241m1\u001B[39m]\n",
      "\u001B[0;31mContextualVersionConflict\u001B[0m: (qiskit-terra 0.24.1 (/Users/marcoemiliorodriguezserrano/anaconda3/lib/python3.10/site-packages), Requirement.parse('qiskit-terra==0.23.3'), {'qiskit'})"
     ]
    }
   ],
   "execution_count": 20
  },
  {
   "cell_type": "code",
   "execution_count": 11,
   "outputs": [
    {
     "name": "stderr",
     "output_type": "stream",
     "text": [
      "/Users/marcoemiliorodriguezserrano/anaconda3/lib/python3.10/site-packages/pennylane_qiskit/__init__.py:19: DeprecationWarning: The package qiskit.providers.ibmq is being deprecated. Please see https://ibm.biz/provider_migration_guide to get instructions on how to migrate to qiskit-ibm-provider (https://github.com/Qiskit/qiskit-ibm-provider) and qiskit-ibm-runtime (https://github.com/Qiskit/qiskit-ibm-runtime).\n",
      "  from .ibmq import IBMQDevice\n",
      "/Users/marcoemiliorodriguezserrano/anaconda3/lib/python3.10/site-packages/pennylane_qiskit/ibmq.py:115: DeprecationWarning: The qiskit.IBMQ entrypoint and the qiskit-ibmq-provider package (accessible from 'qiskit.providers.ibmq`) are deprecated and will be removed in a future release. Instead you should use the qiskit-ibm-provider package which is accessible from 'qiskit_ibm_provider'. You can install it with 'pip install qiskit_ibm_provider'. Just replace 'qiskit.IBMQ' with 'qiskit_ibm_provider.IBMProvider'\n",
      "  active_account = IBMQ.active_account()\n"
     ]
    }
   ],
   "source": [
    "net = QuantumNet(n_layers, n_qubits, n_actions, environment, quantum_device)"
   ],
   "metadata": {
    "collapsed": false,
    "ExecuteTime": {
     "end_time": "2023-06-28T21:37:25.153940Z",
     "start_time": "2023-06-28T21:37:14.504319Z"
    }
   }
  },
  {
   "cell_type": "markdown",
   "source": [
    "Se crea la red objetivo también como un circuito cuántico"
   ],
   "metadata": {
    "collapsed": false,
    "ExecuteTime": {
     "start_time": "2023-06-25T17:16:33.796416Z"
    }
   },
   "outputs": []
  },
  {
   "cell_type": "code",
   "execution_count": 12,
   "outputs": [],
   "source": [
    "target_network = QuantumNet(n_layers, n_qubits, n_actions, environment, quantum_device)"
   ],
   "metadata": {
    "collapsed": false,
    "ExecuteTime": {
     "end_time": "2023-06-28T21:37:25.184929Z",
     "start_time": "2023-06-28T21:37:25.159115Z"
    }
   }
  },
  {
   "cell_type": "markdown",
   "source": [
    "Se crea el modelo DQN"
   ],
   "metadata": {
    "collapsed": false,
    "ExecuteTime": {
     "start_time": "2023-06-25T17:16:33.801136Z"
    }
   },
   "outputs": []
  },
  {
   "cell_type": "code",
   "execution_count": 13,
   "outputs": [],
   "source": [
    "dqn = Model.DQN(env, net, learning_rate=lr, lr_input=lr_input, lr_output=lr_output)"
   ],
   "metadata": {
    "collapsed": false,
    "ExecuteTime": {
     "end_time": "2023-06-28T21:37:25.204925Z",
     "start_time": "2023-06-28T21:37:25.188003Z"
    }
   }
  },
  {
   "cell_type": "markdown",
   "source": [
    "Se crea el modelo DQN objetivo"
   ],
   "metadata": {
    "collapsed": false,
    "ExecuteTime": {
     "start_time": "2023-06-25T17:16:33.804872Z"
    }
   },
   "outputs": []
  },
  {
   "cell_type": "code",
   "execution_count": 14,
   "outputs": [],
   "source": [
    "dqn_target = Model.DQN(env, target_network, learning_rate=lr, lr_input=lr_input, lr_output=lr_output)"
   ],
   "metadata": {
    "collapsed": false,
    "ExecuteTime": {
     "end_time": "2023-06-28T21:37:25.205352Z",
     "start_time": "2023-06-28T21:37:25.196157Z"
    }
   }
  },
  {
   "cell_type": "markdown",
   "source": [
    "Se crea el agente, se le pasa como parámetro los dos modelos inicializados que contienen un circuito cuántico"
   ],
   "metadata": {
    "collapsed": false,
    "ExecuteTime": {
     "start_time": "2023-06-25T17:16:33.810844Z"
    }
   },
   "outputs": []
  },
  {
   "cell_type": "code",
   "execution_count": 15,
   "outputs": [],
   "source": [
    "agent = Agent.DQNAgent(env, dqn, dqn_target, buffer, EPSILON, EPSILON_DECAY, BATCH_SIZE)"
   ],
   "metadata": {
    "collapsed": false,
    "ExecuteTime": {
     "end_time": "2023-06-28T21:37:25.250315Z",
     "start_time": "2023-06-28T21:37:25.208697Z"
    }
   }
  },
  {
   "cell_type": "markdown",
   "source": [
    "Se prepara el entorno para iniciar las mediciones de CO2"
   ],
   "metadata": {
    "collapsed": false,
    "ExecuteTime": {
     "start_time": "2023-06-25T17:16:33.816777Z"
    }
   },
   "outputs": []
  },
  {
   "cell_type": "code",
   "execution_count": 16,
   "outputs": [],
   "source": [
    "# Se define la carpeta de salida de los archivos de emisiones\n",
    "output_dir = './emisiones/emisiones_QVC_DQN_CartPole'\n",
    "\n",
    "# Se crea una instancia de EmissionsTracker y se configura la carpeta de salida\n",
    "tracker = EmissionsTracker(output_dir=output_dir, log_level = \"critical\")\n",
    "\n",
    "# Se inicializa el seguimiento de las emisiones\n",
    "tracker.start()"
   ],
   "metadata": {
    "collapsed": false,
    "ExecuteTime": {
     "end_time": "2023-06-28T21:37:29.978422Z",
     "start_time": "2023-06-28T21:37:25.221170Z"
    }
   }
  },
  {
   "cell_type": "markdown",
   "source": [
    "Iniciamos el cronómetro para medir el tiempo del proceso"
   ],
   "metadata": {
    "collapsed": false,
    "ExecuteTime": {
     "start_time": "2023-06-25T17:16:33.823314Z"
    }
   },
   "outputs": []
  },
  {
   "cell_type": "code",
   "execution_count": 17,
   "outputs": [],
   "source": [
    "tiempo_inicio = timeit.default_timer()"
   ],
   "metadata": {
    "collapsed": false,
    "ExecuteTime": {
     "end_time": "2023-06-28T21:37:29.987688Z",
     "start_time": "2023-06-28T21:37:29.983631Z"
    }
   }
  },
  {
   "cell_type": "markdown",
   "source": [
    "Se inicia el entrenamiento del agente"
   ],
   "metadata": {
    "collapsed": false,
    "ExecuteTime": {
     "start_time": "2023-06-25T17:16:33.832822Z"
    }
   },
   "outputs": []
  },
  {
   "cell_type": "code",
   "execution_count": null,
   "outputs": [
    {
     "name": "stdout",
     "output_type": "stream",
     "text": [
      "Rellenando el buffer de repetición...\n",
      "Entrenando...\n"
     ]
    },
    {
     "name": "stderr",
     "output_type": "stream",
     "text": [
      "/Users/marcoemiliorodriguezserrano/anaconda3/lib/python3.10/site-packages/pennylane_qiskit/qiskit_device.py:462: UserWarning: ibmqx_token is not a recognized runtime option and may be ignored by the backend.\n",
      "  self._current_job = self.backend.run(compiled_circuits, shots=self.shots, **self.run_args)\n",
      "/Users/marcoemiliorodriguezserrano/anaconda3/lib/python3.10/site-packages/websocket/_http.py:210: DeprecationWarning: ssl.PROTOCOL_TLS is deprecated\n",
      "  context = ssl.SSLContext(sslopt.get('ssl_version', ssl.PROTOCOL_SSLv23))\n",
      "/Users/marcoemiliorodriguezserrano/anaconda3/lib/python3.10/site-packages/websocket/_app.py:308: DeprecationWarning: setDaemon() is deprecated, set the daemon attribute instead\n",
      "  thread.setDaemon(True)\n",
      "/Users/marcoemiliorodriguezserrano/anaconda3/lib/python3.10/site-packages/websocket/_http.py:210: DeprecationWarning: ssl.PROTOCOL_TLS is deprecated\n",
      "  context = ssl.SSLContext(sslopt.get('ssl_version', ssl.PROTOCOL_SSLv23))\n",
      "/Users/marcoemiliorodriguezserrano/anaconda3/lib/python3.10/site-packages/websocket/_app.py:308: DeprecationWarning: setDaemon() is deprecated, set the daemon attribute instead\n",
      "  thread.setDaemon(True)\n",
      "/Users/marcoemiliorodriguezserrano/anaconda3/lib/python3.10/site-packages/websocket/_http.py:210: DeprecationWarning: ssl.PROTOCOL_TLS is deprecated\n",
      "  context = ssl.SSLContext(sslopt.get('ssl_version', ssl.PROTOCOL_SSLv23))\n",
      "/Users/marcoemiliorodriguezserrano/anaconda3/lib/python3.10/site-packages/websocket/_app.py:308: DeprecationWarning: setDaemon() is deprecated, set the daemon attribute instead\n",
      "  thread.setDaemon(True)\n",
      "/Users/marcoemiliorodriguezserrano/anaconda3/lib/python3.10/site-packages/websocket/_http.py:210: DeprecationWarning: ssl.PROTOCOL_TLS is deprecated\n",
      "  context = ssl.SSLContext(sslopt.get('ssl_version', ssl.PROTOCOL_SSLv23))\n",
      "/Users/marcoemiliorodriguezserrano/anaconda3/lib/python3.10/site-packages/websocket/_app.py:308: DeprecationWarning: setDaemon() is deprecated, set the daemon attribute instead\n",
      "  thread.setDaemon(True)\n",
      "/Users/marcoemiliorodriguezserrano/anaconda3/lib/python3.10/site-packages/websocket/_http.py:210: DeprecationWarning: ssl.PROTOCOL_TLS is deprecated\n",
      "  context = ssl.SSLContext(sslopt.get('ssl_version', ssl.PROTOCOL_SSLv23))\n",
      "/Users/marcoemiliorodriguezserrano/anaconda3/lib/python3.10/site-packages/websocket/_app.py:308: DeprecationWarning: setDaemon() is deprecated, set the daemon attribute instead\n",
      "  thread.setDaemon(True)\n"
     ]
    }
   ],
   "source": [
    "agent.train(gamma=GAMMA, max_episodes=MAX_EPISODES,\n",
    "              batch_size=BATCH_SIZE, dnn_update_frequency=DNN_UPD, dnn_sync_frequency=DNN_SYNC)"
   ],
   "metadata": {
    "collapsed": false,
    "is_executing": true,
    "ExecuteTime": {
     "start_time": "2023-06-28T21:37:29.993471Z"
    }
   }
  },
  {
   "cell_type": "markdown",
   "source": [
    "Se calcula el tiempo de ejecución, lo que ha tardado el agente en entrenar"
   ],
   "metadata": {
    "collapsed": false,
    "ExecuteTime": {
     "start_time": "2023-06-25T17:16:33.836084Z"
    }
   },
   "outputs": []
  },
  {
   "cell_type": "code",
   "execution_count": null,
   "outputs": [],
   "source": [
    "tiempo_ejecucion = round(timeit.default_timer() - tiempo_inicio, 0)\n",
    "print(\"Tiempo ejecución entrenamiento: \" + str(int(tiempo_ejecucion/3600))\n",
    "      + \" horas, \" + str(int((tiempo_ejecucion % 3600)/60)) + \" minutos y \"\n",
    "      + str(int((tiempo_ejecucion % 3600)%60)) + \" segundos\")\n"
   ],
   "metadata": {
    "collapsed": false,
    "is_executing": true
   }
  },
  {
   "cell_type": "markdown",
   "source": [
    "Se calculan las emisiones que han podido implicar el proceso"
   ],
   "metadata": {
    "collapsed": false,
    "ExecuteTime": {
     "start_time": "2023-06-25T17:16:33.840299Z"
    }
   },
   "outputs": []
  },
  {
   "cell_type": "code",
   "execution_count": null,
   "outputs": [],
   "source": [
    "emisiones = tracker.stop()\n",
    "print(\"Emisiones de CO2 (Kg)\" + str(emisiones))"
   ],
   "metadata": {
    "collapsed": false,
    "is_executing": true
   }
  },
  {
   "cell_type": "markdown",
   "source": [
    "Se procede a graficar los resultados"
   ],
   "metadata": {
    "collapsed": false,
    "ExecuteTime": {
     "start_time": "2023-06-25T17:16:33.844439Z"
    }
   },
   "outputs": []
  },
  {
   "cell_type": "code",
   "execution_count": null,
   "outputs": [],
   "source": [
    "agent.plot_rewards()\n",
    "agent.plot_loss()"
   ],
   "metadata": {
    "collapsed": false,
    "is_executing": true
   }
  },
  {
   "cell_type": "code",
   "execution_count": null,
   "outputs": [],
   "source": [
    "import numpy as np\n",
    "np.savetxt('./resultados_ejecuciones/T2_QVC_DQN_CartPole_param2_b_001_cuantico_real_tr.txt', agent.training_rewards)\n",
    "np.savetxt('./resultados_ejecuciones/T2_QVC_DQN_CartPole_param2_b_001_mean_cuantico_real_tr.txt', agent.mean_training_rewards)\n",
    "np.savetxt('./resultados_ejecuciones/T2_QVC_DQN_CartPole_param2_b_001_loss_cuantico_real.txt', agent.training_loss)"
   ],
   "metadata": {
    "collapsed": false,
    "is_executing": true
   }
  },
  {
   "cell_type": "code",
   "execution_count": null,
   "outputs": [],
   "source": [
    "import matplotlib.pyplot as plt\n",
    "plt.figure(figsize=(12, 8))\n",
    "plt.plot(agent.training_rewards, label='Recompensas')\n",
    "plt.plot(agent.mean_training_rewards, label='Recompensas medias')\n",
    "plt.axhline(agent.reward_threshold, color='r', label=\"Límite recompensa\")\n",
    "plt.xlabel('Episodios')\n",
    "plt.ylabel('Recompensas')\n",
    "plt.legend(loc=\"upper left\")\n",
    "plt.show()\n"
   ],
   "metadata": {
    "collapsed": false,
    "is_executing": true
   }
  },
  {
   "cell_type": "code",
   "execution_count": null,
   "outputs": [],
   "source": [
    "print(agent.training_rewards)"
   ],
   "metadata": {
    "collapsed": false,
    "is_executing": true
   }
  },
  {
   "cell_type": "markdown",
   "source": [],
   "metadata": {
    "collapsed": false
   }
  }
 ],
 "metadata": {
  "kernelspec": {
   "display_name": "Python 3",
   "language": "python",
   "name": "python3"
  },
  "language_info": {
   "codemirror_mode": {
    "name": "ipython",
    "version": 2
   },
   "file_extension": ".py",
   "mimetype": "text/x-python",
   "name": "python",
   "nbconvert_exporter": "python",
   "pygments_lexer": "ipython2",
   "version": "2.7.6"
  }
 },
 "nbformat": 4,
 "nbformat_minor": 0
}
